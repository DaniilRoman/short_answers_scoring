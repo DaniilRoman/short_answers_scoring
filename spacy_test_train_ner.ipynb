{
 "cells": [
  {
   "cell_type": "code",
   "execution_count": 2,
   "metadata": {
    "collapsed": true
   },
   "outputs": [],
   "source": [
    "from __future__ import unicode_literals, print_function\n",
    "\n",
    "import random\n",
    "from pathlib import Path\n",
    "import spacy\n",
    "import json\n",
    "\n",
    "from tqdm import tqdm"
   ]
  },
  {
   "cell_type": "code",
   "execution_count": 2,
   "outputs": [],
   "source": [
    "\n",
    "def train_spacy_ner(labeled_data_file_path, labels_file_path, output_dir, n_iter=20):\n",
    "    def convert_to_spacy(labeled_data_file_path, labels_file_path):\n",
    "        with open(labeled_data_file_path, mode='r') as labeled_data_file:\n",
    "            labels = []\n",
    "            with open(labels_file_path, mode='r') as labels_file:\n",
    "                labels_json = json.load(labels_file)\n",
    "                for label in labels_json:\n",
    "                    labels.append(label)\n",
    "\n",
    "            lines = labeled_data_file.readlines()\n",
    "            spacy_labels = []\n",
    "            for line in lines:\n",
    "                line = json.loads(line)\n",
    "                if \"labels\" in line and line[\"labels\"] != []:\n",
    "                    spacy_line = (line[\"text\"], {'entities': line[\"labels\"]})\n",
    "                    spacy_labels.append(spacy_line)\n",
    "                else:\n",
    "                    continue\n",
    "        return spacy_labels\n",
    "\n",
    "    TRAIN_DATA = convert_to_spacy(labeled_data_file_path, labels_file_path)\n",
    "\n",
    "    nlp = spacy.blank('ru')\n",
    "    print(\"Created blank 'ru' model\")\n",
    "\n",
    "    if 'ner' not in nlp.pipe_names:\n",
    "        ner = nlp.create_pipe('ner')\n",
    "        nlp.add_pipe(ner, last=True)\n",
    "    else:\n",
    "        ner = nlp.get_pipe('ner')\n",
    "\n",
    "    for _, annotations in TRAIN_DATA:\n",
    "        for ent in annotations.get('entities'):\n",
    "            ner.add_label(ent[2])\n",
    "\n",
    "    other_pipes = [pipe for pipe in nlp.pipe_names if pipe != 'ner']\n",
    "    with nlp.disable_pipes(*other_pipes):  # only train NER\n",
    "        optimizer = nlp.begin_training()\n",
    "        for itn in range(n_iter):\n",
    "            random.shuffle(TRAIN_DATA)\n",
    "            losses = {}\n",
    "            for text, annotations in tqdm(TRAIN_DATA):\n",
    "                nlp.update(\n",
    "                    [text],\n",
    "                    [annotations],\n",
    "                    drop=0.5,\n",
    "                    sgd=optimizer,\n",
    "                    losses=losses)\n",
    "            print(losses)\n",
    "\n",
    "    if output_dir is not None:\n",
    "        output_dir = Path(output_dir)\n",
    "        if not output_dir.exists():\n",
    "            output_dir.mkdir()\n",
    "        nlp.to_disk(output_dir)\n",
    "        print(\"Saved model to\", output_dir)"
   ],
   "metadata": {
    "collapsed": false,
    "pycharm": {
     "name": "#%%\n"
    }
   }
  },
  {
   "cell_type": "code",
   "execution_count": 3,
   "outputs": [],
   "source": [
    "output_dir=Path(\"/home/droman/Documents/diploma/deeppavlov_ner_3.6/data/ner_custom_model\")"
   ],
   "metadata": {
    "collapsed": false,
    "pycharm": {
     "name": "#%%\n"
    }
   }
  },
  {
   "cell_type": "code",
   "execution_count": 4,
   "outputs": [
    {
     "name": "stderr",
     "output_type": "stream",
     "text": [
      "/home/droman/Documents/diploma/deeppavlov_ner_3.6/venv/lib/python3.6/site-packages/spacy/language.py:639: UserWarning: [W033] Training a new parser or NER using a model with an empty lexeme normalization table. This may degrade the performance to some degree. If this is intentional or this language doesn't have a normalization table, please ignore this warning.\n",
      "  **kwargs\n",
      "/home/droman/Documents/diploma/deeppavlov_ner_3.6/venv/lib/python3.6/site-packages/spacy/language.py:639: UserWarning: [W034] Please install the package spacy-lookups-data in order to include the default lexeme normalization table for the language 'ru'.\n",
      "  **kwargs\n",
      "  0%|          | 0/53 [00:00<?, ?it/s]"
     ]
    },
    {
     "name": "stdout",
     "output_type": "stream",
     "text": [
      "Created blank 'ru' model\n"
     ]
    },
    {
     "name": "stderr",
     "output_type": "stream",
     "text": [
      "  8%|▊         | 4/53 [00:00<00:03, 12.37it/s]/home/droman/Documents/diploma/deeppavlov_ner_3.6/venv/lib/python3.6/site-packages/spacy/language.py:482: UserWarning: [W030] Some entities could not be aligned in the text \"это статья тверская великий владимирский князь мос...\" with entities \"[[41, 46, 'TITLE'], [28, 40, 'LOC'], [11, 19, 'LOC...\". Use `spacy.gold.biluo_tags_from_offsets(nlp.make_doc(text), entities)` to check the alignment. Misaligned entities (with BILUO tag '-') will be ignored during training.\n",
      "  gold = GoldParse(doc, **gold)\n",
      " 11%|█▏        | 6/53 [00:00<00:03, 13.28it/s]/home/droman/Documents/diploma/deeppavlov_ner_3.6/venv/lib/python3.6/site-packages/spacy/language.py:482: UserWarning: [W030] Some entities could not be aligned in the text \"василий иван шуйский низложение жить плена поляков...\" with entities \"[[0, 7, 'PERSON'], [8, 12, 'PERSON'], [13, 20, 'PE...\". Use `spacy.gold.biluo_tags_from_offsets(nlp.make_doc(text), entities)` to check the alignment. Misaligned entities (with BILUO tag '-') will be ignored during training.\n",
      "  gold = GoldParse(doc, **gold)\n",
      " 19%|█▉        | 10/53 [00:00<00:02, 15.23it/s]/home/droman/Documents/diploma/deeppavlov_ner_3.6/venv/lib/python3.6/site-packages/spacy/language.py:482: UserWarning: [W030] Some entities could not be aligned in the text \"глеб юрий  —  князь переяславский киевский сын юри...\" with entities \"[[0, 4, 'PERSON'], [5, 9, 'PERSON'], [14, 19, 'TIT...\". Use `spacy.gold.biluo_tags_from_offsets(nlp.make_doc(text), entities)` to check the alignment. Misaligned entities (with BILUO tag '-') will be ignored during training.\n",
      "  gold = GoldParse(doc, **gold)\n",
      "/home/droman/Documents/diploma/deeppavlov_ner_3.6/venv/lib/python3.6/site-packages/spacy/language.py:482: UserWarning: [W030] Some entities could not be aligned in the text \"юрий  —  московский князь 1303 — 1325 великий княз...\" with entities \"[[0, 4, 'PERSON'], [9, 19, 'LOC'], [20, 25, 'TITLE...\". Use `spacy.gold.biluo_tags_from_offsets(nlp.make_doc(text), entities)` to check the alignment. Misaligned entities (with BILUO tag '-') will be ignored during training.\n",
      "  gold = GoldParse(doc, **gold)\n",
      " 23%|██▎       | 12/53 [00:00<00:02, 15.86it/s]/home/droman/Documents/diploma/deeppavlov_ner_3.6/venv/lib/python3.6/site-packages/spacy/language.py:482: UserWarning: [W030] Some entities could not be aligned in the text \"состояниеотпатрулированаелизавета пётр младший доч...\" with entities \"[[24, 33, 'PERSON'], [34, 38, 'PERSON'], [39, 51, ...\". Use `spacy.gold.biluo_tags_from_offsets(nlp.make_doc(text), entities)` to check the alignment. Misaligned entities (with BILUO tag '-') will be ignored during training.\n",
      "  gold = GoldParse(doc, **gold)\n",
      " 30%|███       | 16/53 [00:01<00:02, 16.37it/s]/home/droman/Documents/diploma/deeppavlov_ner_3.6/venv/lib/python3.6/site-packages/spacy/language.py:482: UserWarning: [W030] Some entities could not be aligned in the text \"состояниеотпатрулированаиосиф виссарион сталин  — ...\" with entities \"[[24, 29, 'PERSON'], [30, 39, 'PERSON'], [40, 46, ...\". Use `spacy.gold.biluo_tags_from_offsets(nlp.make_doc(text), entities)` to check the alignment. Misaligned entities (with BILUO tag '-') will be ignored during training.\n",
      "  gold = GoldParse(doc, **gold)\n",
      " 34%|███▍      | 18/53 [00:01<00:02, 16.74it/s]/home/droman/Documents/diploma/deeppavlov_ner_3.6/venv/lib/python3.6/site-packages/spacy/language.py:482: UserWarning: [W030] Some entities could not be aligned in the text \"владимир всеволод моном государственный деятель во...\" with entities \"[[0, 8, 'PERSON'], [9, 17, 'PERSON'], [18, 23, 'PE...\". Use `spacy.gold.biluo_tags_from_offsets(nlp.make_doc(text), entities)` to check the alignment. Misaligned entities (with BILUO tag '-') will be ignored during training.\n",
      "  gold = GoldParse(doc, **gold)\n",
      "/home/droman/Documents/diploma/deeppavlov_ner_3.6/venv/lib/python3.6/site-packages/spacy/language.py:482: UserWarning: [W030] Some entities could not be aligned in the text \"состояниеотпатрулированапетра iii фёдор  —  импера...\" with entities \"[[24, 33, 'PERSON'], [34, 39, 'PERSON'], [44, 53, ...\". Use `spacy.gold.biluo_tags_from_offsets(nlp.make_doc(text), entities)` to check the alignment. Misaligned entities (with BILUO tag '-') will be ignored during training.\n",
      "  gold = GoldParse(doc, **gold)\n",
      " 40%|███▉      | 21/53 [00:01<00:01, 17.99it/s]/home/droman/Documents/diploma/deeppavlov_ner_3.6/venv/lib/python3.6/site-packages/spacy/language.py:482: UserWarning: [W030] Some entities could not be aligned in the text \"состояниеотпатрулированадмитрий юрий шемяк  —  вел...\" with entities \"[[24, 31, 'PERSON'], [32, 36, 'PERSON'], [37, 42, ...\". Use `spacy.gold.biluo_tags_from_offsets(nlp.make_doc(text), entities)` to check the alignment. Misaligned entities (with BILUO tag '-') will be ignored during training.\n",
      "  gold = GoldParse(doc, **gold)\n",
      " 47%|████▋     | 25/53 [00:01<00:01, 18.17it/s]/home/droman/Documents/diploma/deeppavlov_ner_3.6/venv/lib/python3.6/site-packages/spacy/language.py:482: UserWarning: [W030] Some entities could not be aligned in the text \"василий ярослав младший сын ярослав всеволод велик...\" with entities \"[[0, 7, 'PERSON'], [8, 15, 'PERSON'], [16, 27, 'RE...\". Use `spacy.gold.biluo_tags_from_offsets(nlp.make_doc(text), entities)` to check the alignment. Misaligned entities (with BILUO tag '-') will be ignored during training.\n",
      "  gold = GoldParse(doc, **gold)\n",
      " 58%|█████▊    | 31/53 [00:01<00:01, 21.39it/s]/home/droman/Documents/diploma/deeppavlov_ner_3.6/venv/lib/python3.6/site-packages/spacy/language.py:482: UserWarning: [W030] Some entities could not be aligned in the text \"великий княжество литовский —  восточноевропейский...\" with entities \"[[8, 27, 'LOC'], [31, 50, 'LOC'], [51, 62, 'LOC'],...\". Use `spacy.gold.biluo_tags_from_offsets(nlp.make_doc(text), entities)` to check the alignment. Misaligned entities (with BILUO tag '-') will be ignored during training.\n",
      "  gold = GoldParse(doc, **gold)\n",
      " 64%|██████▍   | 34/53 [00:01<00:00, 21.19it/s]/home/droman/Documents/diploma/deeppavlov_ner_3.6/venv/lib/python3.6/site-packages/spacy/language.py:482: UserWarning: [W030] Some entities could not be aligned in the text \"князь дмитрий тимофей трубецкой шенкурский державе...\" with entities \"[[0, 5, 'REL'], [6, 13, 'PERSON'], [14, 21, 'PERSO...\". Use `spacy.gold.biluo_tags_from_offsets(nlp.make_doc(text), entities)` to check the alignment. Misaligned entities (with BILUO tag '-') will be ignored during training.\n",
      "  gold = GoldParse(doc, **gold)\n",
      " 81%|████████  | 43/53 [00:02<00:00, 21.28it/s]/home/droman/Documents/diploma/deeppavlov_ner_3.6/venv/lib/python3.6/site-packages/spacy/language.py:482: UserWarning: [W030] Some entities could not be aligned in the text \"рюрик ростиславичпосле смерть отец 1167 год рюрик ...\" with entities \"[[0, 5, 'PERSON'], [6, 15, 'PERSON'], [30, 34, 'RE...\". Use `spacy.gold.biluo_tags_from_offsets(nlp.make_doc(text), entities)` to check the alignment. Misaligned entities (with BILUO tag '-') will be ignored during training.\n",
      "  gold = GoldParse(doc, **gold)\n",
      " 87%|████████▋ | 46/53 [00:02<00:00, 20.51it/s]/home/droman/Documents/diploma/deeppavlov_ner_3.6/venv/lib/python3.6/site-packages/spacy/language.py:482: UserWarning: [W030] Some entities could not be aligned in the text \"ярополк владимир  —  сын владимир моном князь пере...\" with entities \"[[0, 7, 'PERSON'], [8, 16, 'PERSON'], [21, 24, 'RE...\". Use `spacy.gold.biluo_tags_from_offsets(nlp.make_doc(text), entities)` to check the alignment. Misaligned entities (with BILUO tag '-') will be ignored during training.\n",
      "  gold = GoldParse(doc, **gold)\n",
      " 92%|█████████▏| 49/53 [00:02<00:00, 19.68it/s]/home/droman/Documents/diploma/deeppavlov_ner_3.6/venv/lib/python3.6/site-packages/spacy/language.py:482: UserWarning: [W030] Some entities could not be aligned in the text \"ростислав мстисла сын мстислав внук владимир моном...\" with entities \"[[0, 17, 'PERSON'], [18, 21, 'REL'], [22, 30, 'PER...\". Use `spacy.gold.biluo_tags_from_offsets(nlp.make_doc(text), entities)` to check the alignment. Misaligned entities (with BILUO tag '-') will be ignored during training.\n",
      "  gold = GoldParse(doc, **gold)\n",
      " 96%|█████████▌| 51/53 [00:02<00:00, 18.78it/s]/home/droman/Documents/diploma/deeppavlov_ner_3.6/venv/lib/python3.6/site-packages/spacy/language.py:482: UserWarning: [W030] Some entities could not be aligned in the text \"иван иван молодая  —  удельный князь тверская сын ...\" with entities \"[[0, 4, 'PERSON'], [5, 9, 'PERSON'], [31, 36, 'TIT...\". Use `spacy.gold.biluo_tags_from_offsets(nlp.make_doc(text), entities)` to check the alignment. Misaligned entities (with BILUO tag '-') will be ignored during training.\n",
      "  gold = GoldParse(doc, **gold)\n",
      "100%|██████████| 53/53 [00:02<00:00, 18.55it/s]\n",
      "  6%|▌         | 3/53 [00:00<00:02, 21.57it/s]"
     ]
    },
    {
     "name": "stdout",
     "output_type": "stream",
     "text": [
      "{'ner': 1105.038847311974}\n"
     ]
    },
    {
     "name": "stderr",
     "output_type": "stream",
     "text": [
      "100%|██████████| 53/53 [00:02<00:00, 17.76it/s]\n",
      "  4%|▍         | 2/53 [00:00<00:03, 13.22it/s]"
     ]
    },
    {
     "name": "stdout",
     "output_type": "stream",
     "text": [
      "{'ner': 966.0063099229894}\n"
     ]
    },
    {
     "name": "stderr",
     "output_type": "stream",
     "text": [
      "100%|██████████| 53/53 [00:03<00:00, 17.26it/s]\n",
      "  4%|▍         | 2/53 [00:00<00:02, 18.09it/s]"
     ]
    },
    {
     "name": "stdout",
     "output_type": "stream",
     "text": [
      "{'ner': 927.2100930228634}\n"
     ]
    },
    {
     "name": "stderr",
     "output_type": "stream",
     "text": [
      "100%|██████████| 53/53 [00:02<00:00, 20.29it/s]\n",
      "  6%|▌         | 3/53 [00:00<00:02, 21.70it/s]"
     ]
    },
    {
     "name": "stdout",
     "output_type": "stream",
     "text": [
      "{'ner': 857.4947894851734}\n"
     ]
    },
    {
     "name": "stderr",
     "output_type": "stream",
     "text": [
      "100%|██████████| 53/53 [00:02<00:00, 22.70it/s]\n",
      "  6%|▌         | 3/53 [00:00<00:02, 23.56it/s]"
     ]
    },
    {
     "name": "stdout",
     "output_type": "stream",
     "text": [
      "{'ner': 797.0642671697914}\n"
     ]
    },
    {
     "name": "stderr",
     "output_type": "stream",
     "text": [
      "100%|██████████| 53/53 [00:02<00:00, 19.77it/s]\n",
      "  6%|▌         | 3/53 [00:00<00:02, 21.14it/s]"
     ]
    },
    {
     "name": "stdout",
     "output_type": "stream",
     "text": [
      "{'ner': 767.8733931650263}\n"
     ]
    },
    {
     "name": "stderr",
     "output_type": "stream",
     "text": [
      "100%|██████████| 53/53 [00:02<00:00, 18.45it/s]\n",
      "  4%|▍         | 2/53 [00:00<00:03, 16.09it/s]"
     ]
    },
    {
     "name": "stdout",
     "output_type": "stream",
     "text": [
      "{'ner': 679.2416832750015}\n"
     ]
    },
    {
     "name": "stderr",
     "output_type": "stream",
     "text": [
      "100%|██████████| 53/53 [00:02<00:00, 18.42it/s]\n",
      "  6%|▌         | 3/53 [00:00<00:02, 20.00it/s]"
     ]
    },
    {
     "name": "stdout",
     "output_type": "stream",
     "text": [
      "{'ner': 652.758650344663}\n"
     ]
    },
    {
     "name": "stderr",
     "output_type": "stream",
     "text": [
      "100%|██████████| 53/53 [00:02<00:00, 18.55it/s]\n",
      "  4%|▍         | 2/53 [00:00<00:02, 17.53it/s]"
     ]
    },
    {
     "name": "stdout",
     "output_type": "stream",
     "text": [
      "{'ner': 628.4494414727195}\n"
     ]
    },
    {
     "name": "stderr",
     "output_type": "stream",
     "text": [
      "100%|██████████| 53/53 [00:02<00:00, 18.45it/s]\n",
      "  4%|▍         | 2/53 [00:00<00:02, 19.60it/s]"
     ]
    },
    {
     "name": "stdout",
     "output_type": "stream",
     "text": [
      "{'ner': 612.6937061951494}\n"
     ]
    },
    {
     "name": "stderr",
     "output_type": "stream",
     "text": [
      "100%|██████████| 53/53 [00:02<00:00, 18.02it/s]\n",
      "  4%|▍         | 2/53 [00:00<00:03, 15.75it/s]"
     ]
    },
    {
     "name": "stdout",
     "output_type": "stream",
     "text": [
      "{'ner': 607.7889616984537}\n"
     ]
    },
    {
     "name": "stderr",
     "output_type": "stream",
     "text": [
      "100%|██████████| 53/53 [00:03<00:00, 17.11it/s]\n",
      "  4%|▍         | 2/53 [00:00<00:02, 17.57it/s]"
     ]
    },
    {
     "name": "stdout",
     "output_type": "stream",
     "text": [
      "{'ner': 555.6685246870911}\n"
     ]
    },
    {
     "name": "stderr",
     "output_type": "stream",
     "text": [
      "100%|██████████| 53/53 [00:02<00:00, 18.65it/s]\n",
      "  4%|▍         | 2/53 [00:00<00:02, 19.93it/s]"
     ]
    },
    {
     "name": "stdout",
     "output_type": "stream",
     "text": [
      "{'ner': 547.9339882040872}\n"
     ]
    },
    {
     "name": "stderr",
     "output_type": "stream",
     "text": [
      "100%|██████████| 53/53 [00:02<00:00, 18.74it/s]\n",
      "  4%|▍         | 2/53 [00:00<00:03, 15.29it/s]"
     ]
    },
    {
     "name": "stdout",
     "output_type": "stream",
     "text": [
      "{'ner': 527.4184262259121}\n"
     ]
    },
    {
     "name": "stderr",
     "output_type": "stream",
     "text": [
      "100%|██████████| 53/53 [00:03<00:00, 17.63it/s]\n",
      "  4%|▍         | 2/53 [00:00<00:02, 17.41it/s]"
     ]
    },
    {
     "name": "stdout",
     "output_type": "stream",
     "text": [
      "{'ner': 494.5945876408693}\n"
     ]
    },
    {
     "name": "stderr",
     "output_type": "stream",
     "text": [
      "100%|██████████| 53/53 [00:02<00:00, 18.74it/s]\n",
      "  4%|▍         | 2/53 [00:00<00:02, 19.33it/s]"
     ]
    },
    {
     "name": "stdout",
     "output_type": "stream",
     "text": [
      "{'ner': 499.38125469780755}\n"
     ]
    },
    {
     "name": "stderr",
     "output_type": "stream",
     "text": [
      "100%|██████████| 53/53 [00:02<00:00, 18.51it/s]\n",
      "  4%|▍         | 2/53 [00:00<00:02, 18.75it/s]"
     ]
    },
    {
     "name": "stdout",
     "output_type": "stream",
     "text": [
      "{'ner': 487.1954148670363}\n"
     ]
    },
    {
     "name": "stderr",
     "output_type": "stream",
     "text": [
      "100%|██████████| 53/53 [00:02<00:00, 18.58it/s]\n",
      "  4%|▍         | 2/53 [00:00<00:02, 17.92it/s]"
     ]
    },
    {
     "name": "stdout",
     "output_type": "stream",
     "text": [
      "{'ner': 457.06029487405266}\n"
     ]
    },
    {
     "name": "stderr",
     "output_type": "stream",
     "text": [
      "100%|██████████| 53/53 [00:02<00:00, 18.40it/s]\n",
      "  4%|▍         | 2/53 [00:00<00:02, 17.68it/s]"
     ]
    },
    {
     "name": "stdout",
     "output_type": "stream",
     "text": [
      "{'ner': 452.55344491791857}\n"
     ]
    },
    {
     "name": "stderr",
     "output_type": "stream",
     "text": [
      "100%|██████████| 53/53 [00:02<00:00, 18.39it/s]"
     ]
    },
    {
     "name": "stdout",
     "output_type": "stream",
     "text": [
      "{'ner': 440.7101006253131}\n",
      "Saved model to /home/droman/Documents/diploma/deeppavlov_ner_3.6/data/ner_custom_model\n"
     ]
    },
    {
     "name": "stderr",
     "output_type": "stream",
     "text": [
      "\n"
     ]
    }
   ],
   "source": [
    "train_spacy_ner(\"/home/droman/Documents/diploma/deeppavlov_ner_3.6/data/final-labels-data.jsonl\",\n",
    "                 \"/home/droman/Documents/diploma/spacy/data/doccano/label_config.json\",\n",
    "                 output_dir)\n"
   ],
   "metadata": {
    "collapsed": false,
    "pycharm": {
     "name": "#%%\n"
    }
   }
  },
  {
   "cell_type": "code",
   "execution_count": 4,
   "outputs": [],
   "source": [
    "model = spacy.load(output_dir)\n"
   ],
   "metadata": {
    "collapsed": false,
    "pycharm": {
     "name": "#%%\n"
    }
   }
  },
  {
   "cell_type": "code",
   "execution_count": 24,
   "outputs": [],
   "source": [
    "import pandas as pd\n",
    "data = pd.read_csv(\"./data/input/data_with_semi_preproc_without_stopwords.csv\")"
   ],
   "metadata": {
    "collapsed": false,
    "pycharm": {
     "name": "#%%\n"
    }
   }
  },
  {
   "cell_type": "code",
   "execution_count": 25,
   "outputs": [],
   "source": [
    "txt = data[\"original\"][0]"
   ],
   "metadata": {
    "collapsed": false,
    "pycharm": {
     "name": "#%%\n"
    }
   }
  },
  {
   "cell_type": "code",
   "execution_count": 26,
   "outputs": [
    {
     "name": "stdout",
     "output_type": "stream",
     "text": [
      "великий княжество владимирский 1157года   —   суздальский княжество  —   русский княжество xii  —  xivвеков становиться ядро современный российский государствавый узкий смысл  —   территория который лично владеть великий князь владимирский широкий смысл  —   территория весь княжество выделяться владимирский зависимый владимирский князь середина xiii век сюзеренитет великий князь владимирский признавать также новгородский небольшой перерыв псковский республика\n"
     ]
    }
   ],
   "source": [
    "print(txt)"
   ],
   "metadata": {
    "collapsed": false,
    "pycharm": {
     "name": "#%%\n"
    }
   }
  },
  {
   "cell_type": "code",
   "execution_count": 27,
   "outputs": [
    {
     "name": "stdout",
     "output_type": "stream",
     "text": [
      "великий княжество владимирский 0 30 LOC\n",
      "суздальский 46 57 LOC\n",
      "русский княжество 73 90 LOC\n",
      "российский государствавый 137 162 LOC\n",
      "великий князь 213 226 TITLE\n",
      "владимирский 227 239 LOC\n",
      "княжество 275 284 LOC\n",
      "владимирский 296 308 PERSON\n",
      "владимирский князь 319 337 TITLE\n",
      "великий князь 368 381 TITLE\n",
      "владимирский 382 394 LOC\n",
      "новгородский 412 424 LOC\n",
      "псковский 443 452 LOC\n"
     ]
    }
   ],
   "source": [
    "doc = model(txt)\n",
    "for token in doc.ents:\n",
    "    print(token.text, token.start_char, token.end_char, token.label_)"
   ],
   "metadata": {
    "collapsed": false,
    "pycharm": {
     "name": "#%%\n"
    }
   }
  },
  {
   "cell_type": "code",
   "execution_count": 16,
   "outputs": [],
   "source": [
    "\n",
    "\n",
    "\n",
    "\n",
    "\n",
    "\n",
    "\n",
    "\n",
    "\n",
    "\n",
    "\n",
    "\n",
    "\n",
    "\n",
    "\n",
    "\n",
    "\n",
    "\n",
    "\n"
   ],
   "metadata": {
    "collapsed": false,
    "pycharm": {
     "name": "#%%\n"
    }
   }
  },
  {
   "cell_type": "code",
   "execution_count": null,
   "outputs": [],
   "source": [
    "import pandas as pd\n",
    "origin_result_data = pd.read_csv(\"./data/result.csv\")\n",
    "origin_result_data.head()"
   ],
   "metadata": {
    "collapsed": false,
    "pycharm": {
     "name": "#%%\n"
    }
   }
  },
  {
   "cell_type": "code",
   "execution_count": 8,
   "outputs": [],
   "source": [
    "with open('/home/droman/Documents/diploma/spacy/data/data_for_labeling.txt', mode='wt', encoding='utf-8') as myfile:\n",
    "    myfile.write('\\n'.join(set(origin_result_data[\"original\"].tolist())))"
   ],
   "metadata": {
    "collapsed": false,
    "pycharm": {
     "name": "#%%\n"
    }
   }
  },
  {
   "cell_type": "code",
   "execution_count": 6,
   "outputs": [
    {
     "data": {
      "text/plain": "162"
     },
     "execution_count": 6,
     "metadata": {},
     "output_type": "execute_result"
    }
   ],
   "source": [
    "len(origin_result_data[\"original\"].tolist())"
   ],
   "metadata": {
    "collapsed": false,
    "pycharm": {
     "name": "#%%\n"
    }
   }
  },
  {
   "cell_type": "code",
   "execution_count": 7,
   "outputs": [
    {
     "data": {
      "text/plain": "54"
     },
     "execution_count": 7,
     "metadata": {},
     "output_type": "execute_result"
    }
   ],
   "source": [
    "len(set(origin_result_data[\"original\"].tolist()))\n"
   ],
   "metadata": {
    "collapsed": false,
    "pycharm": {
     "name": "#%%"
    }
   }
  },
  {
   "cell_type": "code",
   "execution_count": null,
   "outputs": [],
   "source": [],
   "metadata": {
    "collapsed": false,
    "pycharm": {
     "name": "#%%\n"
    }
   }
  }
 ],
 "metadata": {
  "kernelspec": {
   "display_name": "Python 3",
   "language": "python",
   "name": "python3"
  },
  "language_info": {
   "codemirror_mode": {
    "name": "ipython",
    "version": 2
   },
   "file_extension": ".py",
   "mimetype": "text/x-python",
   "name": "python",
   "nbconvert_exporter": "python",
   "pygments_lexer": "ipython2",
   "version": "2.7.6"
  }
 },
 "nbformat": 4,
 "nbformat_minor": 0
}