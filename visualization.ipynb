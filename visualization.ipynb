{
 "cells": [
  {
   "cell_type": "code",
   "execution_count": null,
   "outputs": [],
   "source": [
    "%%capture\n",
    "#@title Setup Environment\n",
    "# Install the latest Tensorflow version.\n",
    "!pip3 install tensorflow_text\n",
    "!pip3 install --upgrade tensorflow-gpu\n",
    "!pip install tensorflow-hub\n",
    "!pip install bokeh\n",
    "!pip install simpleneighbors\n",
    "!pip install tqdm\n",
    "\n",
    "import seaborn as sns\n",
    "\n",
    "import bokeh\n",
    "import bokeh.models\n",
    "import bokeh.plotting"
   ],
   "metadata": {
    "collapsed": false,
    "pycharm": {
     "name": "#%%\n"
    }
   }
  },
  {
   "cell_type": "code",
   "execution_count": 1,
   "outputs": [],
   "source": [
    "import json\n",
    "import matplotlib.pyplot as plt\n",
    "import numpy as np\n",
    "import pandas as pd\n",
    "from sklearn.metrics.pairwise import cosine_similarity"
   ],
   "metadata": {
    "collapsed": false,
    "pycharm": {
     "name": "#%%\n"
    }
   }
  },
  {
   "cell_type": "code",
   "execution_count": null,
   "outputs": [],
   "source": [
    "\n",
    "def visualize_similarity(embeddings_1, embeddings_2, labels_1, labels_2,\n",
    "                         plot_title,\n",
    "                         plot_width=1200, plot_height=600,\n",
    "                         xaxis_font_size='12pt', yaxis_font_size='12pt'):\n",
    "\n",
    "  assert len(embeddings_1) == len(labels_1)\n",
    "  assert len(embeddings_2) == len(labels_2)\n",
    "\n",
    "  # arccos based text similarity (Yang et al. 2019; Cer et al. 2019)\n",
    "  sim = 1 - np.arccos(\n",
    "      sklearn.metrics.pairwise.cosine_similarity(embeddings_1,\n",
    "                                                 embeddings_2))/np.pi\n",
    "\n",
    "  embeddings_1_col, embeddings_2_col, sim_col = [], [], []\n",
    "  for i in range(len(embeddings_1)):\n",
    "    for j in range(len(embeddings_2)):\n",
    "      embeddings_1_col.append(labels_1[i])\n",
    "      embeddings_2_col.append(labels_2[j])\n",
    "      sim_col.append(sim[i][j])\n",
    "  df = pd.DataFrame(zip(embeddings_1_col, embeddings_2_col, sim_col),\n",
    "                    columns=['embeddings_1', 'embeddings_2', 'sim'])\n",
    "\n",
    "  mapper = bokeh.models.LinearColorMapper(\n",
    "      palette=[*reversed(bokeh.palettes.YlOrRd[9])], low=df.sim.min(),\n",
    "      high=df.sim.max())\n",
    "\n",
    "  p = bokeh.plotting.figure(title=plot_title, x_range=labels_1,\n",
    "                            x_axis_location=\"above\",\n",
    "                            y_range=[*reversed(labels_2)],\n",
    "                            plot_width=plot_width, plot_height=plot_height,\n",
    "                            tools=\"save\",toolbar_location='below', tooltips=[\n",
    "                                ('pair', '@embeddings_1 ||| @embeddings_2'),\n",
    "                                ('sim', '@sim')])\n",
    "  p.rect(x=\"embeddings_1\", y=\"embeddings_2\", width=1, height=1, source=df,\n",
    "         fill_color={'field': 'sim', 'transform': mapper}, line_color=None)\n",
    "\n",
    "  p.title.text_font_size = '12pt'\n",
    "  p.axis.axis_line_color = None\n",
    "  p.axis.major_tick_line_color = None\n",
    "  p.axis.major_label_standoff = 16\n",
    "  p.xaxis.major_label_text_font_size = xaxis_font_size\n",
    "  p.xaxis.major_label_orientation = 0.25 * np.pi\n",
    "  p.yaxis.major_label_text_font_size = yaxis_font_size\n",
    "  p.min_border_right = 300\n",
    "\n",
    "  bokeh.io.output_notebook()\n",
    "  bokeh.io.show(p)"
   ],
   "metadata": {
    "collapsed": false,
    "pycharm": {
     "name": "#%%\n"
    }
   }
  },
  {
   "cell_type": "code",
   "execution_count": null,
   "metadata": {
    "collapsed": true,
    "pycharm": {
     "name": "#%%\n"
    }
   },
   "outputs": [],
   "source": [
    "\n",
    "def vis_sim(etalon_l, answers_l, etalon_emb, answers_emb):\n",
    "\n",
    "    answers_sim = [get_similarities(etalon_emb, [ans_emb]) for ans_emb in answers_emb]\n",
    "\n",
    "    answers_sim = [list(map(lambda x: x[0][0], answers_sim))]\n",
    "\n",
    "    fig, ax = plt.subplots(figsize=(10,6))\n",
    "    sns.heatmap(answers_sim, center=0, annot=True, cbar=False)\n",
    "\n",
    "    ax.set_yticklabels([\"etalon\"])\n",
    "    ax.set_xticklabels([\"%i answer\" % (i+1) for i in range(len(answers_l))])\n",
    "\n",
    "    print(\"etalon - %s\" % etalon_l[0])\n",
    "    for i in range(len(answers_l)):\n",
    "        print(\"%i answer - %s\" % (i+1, answers_l[i]))\n",
    "\n",
    "    plt.show()\n",
    "\n",
    "def get_embeddings(sequence):\n",
    "    return embed_text(sequence)\n",
    "\n",
    "def chunks(lst, n):\n",
    "    \"\"\"Yield successive n-sized chunks from lst.\"\"\"\n",
    "    for i in range(0, len(lst), n):\n",
    "        yield lst[i:i + n]"
   ]
  },
  {
   "cell_type": "code",
   "execution_count": 29,
   "outputs": [],
   "source": [
    "def print_scores(scores_structure, fileName):\n",
    "    features_names = [', '.join(x) for x in scores_structure[0]]\n",
    "    features = list(range(len(scores_structure[0])))\n",
    "    # plt.figure(figsize=(20,20))\n",
    "    plt.figure(figsize=(20, 10))\n",
    "    plt.rcParams.update({'font.size': 30})\n",
    "    plt.bar(features, scores_structure[1], align='edge', width=0.3)\n",
    "    plt.ylabel('score', fontsize=44)\n",
    "    plt.xlabel('features', fontsize=44)\n",
    "    plt.savefig('/home/droman/Documents/diploma/deeppavlov_ner_3.6/data/output/images/'+fileName)\n",
    "    plt.show()\n",
    "    for i in range(len(features)):\n",
    "        print(i,\" - \", features_names[i])"
   ],
   "metadata": {
    "collapsed": false,
    "pycharm": {
     "name": "#%%\n"
    }
   }
  },
  {
   "cell_type": "code",
   "execution_count": 30,
   "outputs": [],
   "source": [
    "def get_scores(input=\"/home/droman/Documents/diploma/deeppavlov_ner_3.6/data/output/classification/scores.json\"):\n",
    "    with open(input) as json_file:\n",
    "        return json.load(json_file)"
   ],
   "metadata": {
    "collapsed": false,
    "pycharm": {
     "name": "#%%\n"
    }
   }
  },
  {
   "cell_type": "code",
   "execution_count": 31,
   "outputs": [
    {
     "data": {
      "text/plain": "<Figure size 1440x720 with 1 Axes>",
      "image/png": "[encoded data removed]"
     },
     "metadata": {
      "needs_background": "light"
     },
     "output_type": "display_data"
    },
    {
     "name": "stdout",
     "output_type": "stream",
     "text": [
      "0  -  bert_distance, ner_custom_overlap\n",
      "1  -  bert_distance, ner_custom_overlap, ner_overlap\n",
      "2  -  ner_custom_overlap\n",
      "3  -  ner_custom_overlap, ner_overlap\n",
      "4  -  ner_overlap\n"
     ]
    }
   ],
   "source": [
    "\n",
    "def most_scored():\n",
    "    print_scored_abstarct(lambda x: x[:5], \"most_sorted.png\")\n",
    "\n",
    "def less_scored():\n",
    "    print_scored_abstarct(lambda x: x[-5:], \"less_sorted.png\")\n",
    "\n",
    "def print_scored_abstarct(get_part, fileName):\n",
    "    scores_data = get_scores()\n",
    "\n",
    "    columns = scores_data[\"items\"][0][\"x_columns\"]\n",
    "    scores = scores_data[\"items\"][0][\"scores\"]\n",
    "\n",
    "    pairs = []\n",
    "    assert len(columns) == len(scores)\n",
    "    for i in range(len(columns)):\n",
    "        pairs.append([columns[i], scores[i]])\n",
    "\n",
    "    sorted(pairs, key=lambda x: x[1])\n",
    "    pairs = get_part(pairs)\n",
    "\n",
    "    columns = [i[0] for i in pairs]\n",
    "    scores = [i[1] for i in pairs]\n",
    "\n",
    "    print_scores([columns, scores], fileName)"
   ],
   "metadata": {
    "collapsed": false,
    "pycharm": {
     "name": "#%%\n"
    }
   }
  },
  {
   "cell_type": "code",
   "execution_count": null,
   "outputs": [],
   "source": [
    "# вывести все\n",
    "# топ лучший\n",
    "# топ худших\n",
    "# сравнить лучшие между разными данными\n",
    "# сравнить худшие между разными данными\n",
    "# сравнить один набор фич с разными типами данных, как будто по времени\n",
    "# попробовать проанализировать вклад custom ner\n",
    "# сравнить фичи по отдельности\n",
    "\n",
    "\n"
   ],
   "metadata": {
    "collapsed": false,
    "pycharm": {
     "name": "#%%\n"
    }
   }
  }
 ],
 "metadata": {
  "kernelspec": {
   "display_name": "Python 3",
   "language": "python",
   "name": "python3"
  },
  "language_info": {
   "codemirror_mode": {
    "name": "ipython",
    "version": 2
   },
   "file_extension": ".py",
   "mimetype": "text/x-python",
   "name": "python",
   "nbconvert_exporter": "python",
   "pygments_lexer": "ipython2",
   "version": "2.7.6"
  }
 },
 "nbformat": 4,
 "nbformat_minor": 0
}