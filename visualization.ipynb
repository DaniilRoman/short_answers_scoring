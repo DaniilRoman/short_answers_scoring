{
 "cells": [
  {
   "cell_type": "code",
   "execution_count": 1,
   "outputs": [],
   "source": [
    "import seaborn as sns\n",
    "\n",
    "import bokeh\n",
    "import bokeh.models\n",
    "import bokeh.plotting\n",
    "\n",
    "import json\n",
    "import matplotlib.pyplot as plt\n",
    "import numpy as np\n",
    "import pandas as pd"
   ],
   "metadata": {
    "collapsed": false,
    "pycharm": {
     "name": "#%%\n"
    }
   }
  },
  {
   "cell_type": "code",
   "execution_count": 14,
   "outputs": [],
   "source": [
    "def visualize_similarity(distances, labels_1, labels_2,\n",
    "                         plot_title=\"\",\n",
    "                         plot_width=1200, plot_height=600,\n",
    "                         xaxis_font_size='12pt', yaxis_font_size='12pt'):\n",
    "\n",
    "\n",
    "  df = pd.DataFrame(zip(labels_1, labels_2, distances),\n",
    "                    columns=['embeddings_1', 'embeddings_2', 'sim'])\n",
    "\n",
    "  min_distance = min(distances)\n",
    "  max_distance = max(distances)\n",
    "\n",
    "  mapper = bokeh.models.LinearColorMapper(\n",
    "      palette=[*reversed(bokeh.palettes.YlOrRd[9])], low=min_distance, high=max_distance)\n",
    "\n",
    "  p = bokeh.plotting.figure(title=plot_title, x_range=labels_1,\n",
    "                            x_axis_location=\"above\",\n",
    "                            y_range=[*reversed(labels_2)],\n",
    "                            plot_width=plot_width, plot_height=plot_height,\n",
    "                            tools=\"save\",toolbar_location='below', tooltips=[\n",
    "                                ('pair', '@embeddings_1 ||| @embeddings_2'),\n",
    "                                ('sim', '@sim')])\n",
    "  p.rect(x=\"embeddings_1\", y=\"embeddings_2\", width=1, height=1, source=df,\n",
    "         fill_color={'field': 'sim', 'transform': mapper}, line_color=None)\n",
    "\n",
    "  p.title.text_font_size = '12pt'\n",
    "  p.axis.axis_line_color = None\n",
    "  p.axis.major_tick_line_color = None\n",
    "  p.axis.major_label_standoff = 16\n",
    "  p.xaxis.major_label_text_font_size = xaxis_font_size\n",
    "  p.xaxis.major_label_orientation = 0.25 * np.pi\n",
    "  p.yaxis.major_label_text_font_size = yaxis_font_size\n",
    "  p.min_border_right = 300\n",
    "\n",
    "  bokeh.io.output_notebook()\n",
    "  bokeh.io.show(p)\n",
    "\n",
    "\n",
    "def vis_sim(original, answers, answers_sim, folder_path=\"/home/droman/Documents/diploma/deeppavlov_ner_3.6/data/output/images/sentences/\"):\n",
    "    fig, ax = plt.subplots(figsize=(10,6))\n",
    "    sns.heatmap([answers_sim], center=-0.5, annot=True, cbar=False)\n",
    "\n",
    "    ax.set_yticklabels([\"origin\"])\n",
    "    ax.set_xticklabels([\"%i answer\" % (i+1) for i in range(len(answers))])\n",
    "\n",
    "    print(\"origin - %s\" % original)\n",
    "    for i in range(len(answers)):\n",
    "        print()\n",
    "\n",
    "    plt.show()\n",
    "\n",
    "    file_name = \"sentence_sim\"\n",
    "    plt.savefig(folder_path + file_name + '.png')\n",
    "    lines = \"origin - %s\\n\" % original\n",
    "    for i in range(len(answers)):\n",
    "        lines += \"%i answer - %s\\n\" % (i+1, answers[i])\n",
    "    with open(folder_path + file_name + \".txt\", \"w\") as file:\n",
    "        print(lines)\n",
    "        file.write(lines)\n",
    "\n",
    "\n",
    "def print_feature_comparing(values, file_prefix):\n",
    "    # values = {\"bert\": [3,5,1], \"use\": [1,4,2], \"ner\": [2, 3,2]}\n",
    "\n",
    "    fig, ax = plt.subplots()\n",
    "    fig.set_size_inches(18.5, 10.5)\n",
    "    index = np.arange(3) # len([3,5,1])\n",
    "    bar_width = 0.35\n",
    "    opacity = 0.5\n",
    "\n",
    "    for feature_name in values.keys():\n",
    "        plt.bar(index, values[feature_name], bar_width,\n",
    "            alpha=opacity,\n",
    "            label=feature_name)\n",
    "\n",
    "    plt.xlabel('Person')\n",
    "    plt.ylabel('Scores')\n",
    "    plt.title('Scores by person')\n",
    "    plt.xticks(index + bar_width, ('5', '4', '3'))\n",
    "    plt.legend()\n",
    "\n",
    "    plt.savefig(file_prefix +'.png')\n",
    "\n",
    "    plt.tight_layout()\n",
    "    plt.show()\n",
    "\n",
    "def feature_comparing(index = 22):\n",
    "    data = pd.read_csv(\"/home/droman/Documents/diploma/deeppavlov_ner_3.6/data/output/normalized/data_origin.csv\")\n",
    "    original = data[\"original\"][index]\n",
    "    features = [\"tfidf_distance\", \"laser_distance\", \"use_distance\", \"fasttext_distance\", \"bert_distance\", \"ner_custom_overlap\", \"ner_overlap\"]\n",
    "    values = {}\n",
    "    lines = \"\"\n",
    "    for i in features:\n",
    "        values[i] = []\n",
    "\n",
    "    for i in [5, 4, 3]:\n",
    "        targets = data.loc[(data[\"original\"] == original) & (data[\"score\"] == i)]\n",
    "        lines += str(i) + \" - \" + targets[\"scored_text\"].values[0] + \"\\n\"\n",
    "        for feature in features:\n",
    "            values[feature].append(targets[feature].values[0])\n",
    "    file_prefix = '/home/droman/Documents/diploma/deeppavlov_ner_3.6/data/output/images/sentences/sentence_comparison_' + str(index)\n",
    "    print_feature_comparing(values, file_prefix)\n",
    "    values = {k: v for k, v in sorted(values.items(), key=lambda item: item[1][2])}\n",
    "\n",
    "    lines += (\"=== Lowest ===\"+\"\\n\")\n",
    "    for item in list(values.items())[:2]:\n",
    "        lines += (item[0] + \": \" + str(item[1][2]) + \"\\n\")\n",
    "    lines += (\"=== Highest ===\"+\"\\n\")\n",
    "    for item in list(values.items())[-2:]:\n",
    "        lines += (item[0] + \": \" + str(item[1][2]) + \"\\n\")\n",
    "\n",
    "    file_path = file_prefix + '.txt'\n",
    "    with open(file_path, \"w\") as file:\n",
    "        print(lines)\n",
    "        file.write(lines)"
   ],
   "metadata": {
    "collapsed": false,
    "pycharm": {
     "name": "#%%\n"
    }
   }
  },
  {
   "cell_type": "code",
   "execution_count": 21,
   "outputs": [
    {
     "data": {
      "text/plain": "<Figure size 1332x756 with 1 Axes>",
      "image/png": "[encoded data removed]"
     },
     "metadata": {
      "needs_background": "light"
     },
     "output_type": "display_data"
    },
    {
     "name": "stdout",
     "output_type": "stream",
     "text": [
      "5 -  В период его правления продолжился процесс собирания русских земель, в централизованное Русское государство вошли Псков, Смоленск и Рязань Сын Ивана III Великого и Софии Палеолог, отец Ивана IV ГрозногоВаси́лий III Иванович, по прямому имени Гавриил, в постриге Варлаам — великий князь владимирский и московский в 1505—1533, государь всея Руси\n",
      "4 - Васи́лий III Иванович, по прямому имени Гавриил, в постриге Варлаам — великий князь владимирский и московский в 1505—1533, государь всея Руси Сын Ивана III Великого и Софии Палеолог, отец Ивана IV Грозного\n",
      "3 -  В период его правления продолжился процесс собирания русских земель, в централизованное Русское государство вошли Псков, Смоленск и Рязань\n",
      "=== Lowest ===\n",
      "ner_custom_overlap: 0.16666666666666666\n",
      "ner_overlap: 0.4\n",
      "=== Highest ===\n",
      "laser_distance: 0.7743032574653625\n",
      "bert_distance: 0.9328757\n",
      "\n"
     ]
    }
   ],
   "source": [
    "feature_comparing(33)\n"
   ],
   "metadata": {
    "collapsed": false,
    "pycharm": {
     "name": "#%%\n"
    }
   }
  },
  {
   "cell_type": "code",
   "execution_count": null,
   "outputs": [],
   "source": [
    "|# original = \"111\"\n",
    "# targets = [\"1\", \"2\", \"3\"]\n",
    "# distances = [0.1, 0.2, 0.3]\n",
    "# # visualize_similarity(distances, originals, targets)\n",
    "# vis_sim(original, targets, distances)"
   ],
   "metadata": {
    "collapsed": false,
    "pycharm": {
     "name": "#%%\n"
    }
   }
  },
  {
   "cell_type": "code",
   "execution_count": 144,
   "outputs": [],
   "source": [
    "ALL_SCORES_FILE_NAME = \"all_scores\"\n",
    "MOST_SCORES_FILE_NAME = \"most_scores\"\n",
    "LESS_SCORES_FILE_NAME = \"less_scores\"\n",
    "\n",
    "BEST_BY_TYPE_FILE_NAME = \"best_by_type_scores\"\n",
    "CLASSIFICATION_RESULT = \"/home/droman/Documents/diploma/deeppavlov_ner_3.6/data/output/classification/scores.json\"\n",
    "CLASSIFICATION_RESULT_TOGETHER = \"/home/droman/Documents/diploma/deeppavlov_ner_3.6/data/output/classification/scores_together.json\"\n",
    "\n",
    "def print_scores(scores_structure, file_name):\n",
    "    features_names = scores_structure[0] #[', '.join(x) for x in scores_structure[0]]\n",
    "    features = scores_structure[1]\n",
    "    feature_indexies = list(range(len(features)))\n",
    "    # plt.figure(figsize=(20,20))\n",
    "    plt.figure(figsize=(20, 10))\n",
    "    plt.rcParams.update({'font.size': 30})\n",
    "    plt.bar(feature_indexies, scores_structure[1], align='edge', width=0.3, alpha=0.6)\n",
    "    plt.ylabel('score', fontsize=44)\n",
    "    plt.xlabel('features', fontsize=44)\n",
    "    file_prefix = '/home/droman/Documents/diploma/deeppavlov_ner_3.6/data/output/images/'\n",
    "    plt.savefig(file_prefix + file_name+'.png')\n",
    "    plt.show()\n",
    "    lines = \"\"\n",
    "    for i in range(len(feature_indexies)):\n",
    "        line = str(i) + \" - \" + str(round(features[i], 4)) + \": \" + features_names[i] + \" :\"\n",
    "        lines += line + \"\\n\"\n",
    "    with open(file_prefix + file_name + \".txt\", \"w\") as file:\n",
    "        print(lines)\n",
    "        file.write(lines)\n",
    "\n",
    "def get_scores(input=CLASSIFICATION_RESULT):\n",
    "    with open(input) as json_file:\n",
    "        return json.load(json_file)\n",
    "\n",
    "def get_columns_from_json(scores_data):\n",
    "    try:\n",
    "        return [item[\"data_type\"] + \": \" + ', '.join(x_column) + \" :\" for item in scores_data[\"items\"] for x_column in item[\"x_columns\"]]\n",
    "    except:\n",
    "        return [', '.join(x_column) for item in scores_data[\"items\"] for x_column in item[\"x_columns\"]]\n",
    "\n",
    "def get_scores_from_json(scores_data):\n",
    "    return [score for item in scores_data[\"items\"] for score in item[\"scores\"]]\n",
    "\n",
    "def most_scored():\n",
    "    print_scored_abstract(lambda x: x[-10:], MOST_SCORES_FILE_NAME)\n",
    "def less_scored():\n",
    "    print_scored_abstract(lambda x: x[:10], LESS_SCORES_FILE_NAME)\n",
    "def all_scored():\n",
    "    print_scored_abstract(lambda x: x, ALL_SCORES_FILE_NAME)\n",
    "\n",
    "def most_scored_together():\n",
    "    print_scored_abstract(lambda x: x[-10:], MOST_SCORES_FILE_NAME+\"_together\", scores_file=CLASSIFICATION_RESULT_TOGETHER)\n",
    "def less_scored_together():\n",
    "    print_scored_abstract(lambda x: x[:10], LESS_SCORES_FILE_NAME+\"_together\", scores_file=CLASSIFICATION_RESULT_TOGETHER)\n",
    "def all_scored_together():\n",
    "    print_scored_abstract(lambda x: x, ALL_SCORES_FILE_NAME+\"_together\", scores_file=CLASSIFICATION_RESULT_TOGETHER)\n",
    "\n",
    "\n",
    "\n",
    "def best_by_type():\n",
    "    def _get_columns_from_json(scores_data):\n",
    "        result = []\n",
    "        for item in scores_data[\"items\"]:\n",
    "            scores = item[\"scores\"]\n",
    "            max_index = scores.index(max(scores))\n",
    "            result.append(item[\"data_type\"] + \": \" + ', '.join(item[\"x_columns\"][max_index]))\n",
    "        return result\n",
    "\n",
    "    def _get_scores_from_json(scores_data):\n",
    "        result = []\n",
    "        for item in scores_data[\"items\"]:\n",
    "            result.append(max(item[\"scores\"]))\n",
    "        return result\n",
    "\n",
    "    print_scored_abstract(lambda x: x[-10:], BEST_BY_TYPE_FILE_NAME, _get_columns_from_json, _get_scores_from_json)\n",
    "\n",
    "\n",
    "def scores_by_feature(feature, feature2=None):\n",
    "    def filter_fun(xx):\n",
    "        if feature2 is None:\n",
    "            return feature in xx[0]\n",
    "        else:\n",
    "            return feature in xx[0] or feature2 in xx[0]\n",
    "    print_scored_abstract(lambda x: list(filter(filter_fun, x)), \"scores_by_\" + feature)\n",
    "\n",
    "\n",
    "def print_scored_abstract(get_part, file_name, _get_columns_from_json=get_columns_from_json, _get_scores_from_json=get_scores_from_json, scores_file=CLASSIFICATION_RESULT):\n",
    "    scores_data = get_scores(scores_file)\n",
    "\n",
    "    columns = _get_columns_from_json(scores_data)\n",
    "    scores = _get_scores_from_json(scores_data)\n",
    "\n",
    "    pairs = []\n",
    "    assert len(columns) == len(scores)\n",
    "    for i in range(len(columns)):\n",
    "        pairs.append([columns[i], scores[i]])\n",
    "\n",
    "    pairs = sorted(pairs, key=lambda x: x[1])\n",
    "    pairs = get_part(pairs)\n",
    "\n",
    "    columns = [i[0] for i in pairs]\n",
    "    scores = [i[1] for i in pairs]\n",
    "\n",
    "    print_scores([columns, scores], file_name)\n"
   ],
   "metadata": {
    "collapsed": false,
    "pycharm": {
     "name": "#%%\n"
    }
   }
  },
  {
   "cell_type": "code",
   "execution_count": 145,
   "outputs": [],
   "source": [
    "# less_scored_together()\n",
    "# most_scored_together()\n",
    "# all_scored_together()\n",
    "\n",
    "# best_by_type()\n",
    "# less_scored()\n",
    "# most_scored()\n",
    "# all_scored()\n"
   ],
   "metadata": {
    "collapsed": false,
    "pycharm": {
     "name": "#%%\n"
    }
   }
  },
  {
   "cell_type": "code",
   "execution_count": 146,
   "outputs": [
    {
     "data": {
      "text/plain": "<Figure size 1440x720 with 1 Axes>",
      "image/png": "[encoded data removed]"
     },
     "metadata": {
      "needs_background": "light"
     },
     "output_type": "display_data"
    },
    {
     "name": "stdout",
     "output_type": "stream",
     "text": [
      "0 - 0.4825: data_origin: ner_custom_overlap : :\n",
      "1 - 0.5133: data_preprocess: ner_custom_overlap : :\n",
      "2 - 0.5133: data_semi_preprocc_with_stopwords: ner_custom_overlap : :\n",
      "3 - 0.5133: data_semi_preprocess_without_stopwords: ner_custom_overlap : :\n",
      "\n"
     ]
    }
   ],
   "source": [
    "scores_by_feature(\": ner_custom_overlap :\")\n",
    "# scores_by_feature(\": ner_overlap :\")\n",
    "# scores_by_feature(\": laser_distance :\")\n",
    "# scores_by_feature(\": fasttext_distance :\")\n",
    "# scores_by_feature(\": bert_distance :\")\n",
    "# scores_by_feature(\": use_distance :\")\n",
    "# scores_by_feature(\": tfidf_distance :\")\n"
   ],
   "metadata": {
    "collapsed": false,
    "pycharm": {
     "name": "#%%\n"
    }
   }
  },
  {
   "cell_type": "code",
   "execution_count": null,
   "outputs": [],
   "source": [
    "# scores_by_feature(\": ner_overlap\", \": laser_distance :\")"
   ],
   "metadata": {
    "collapsed": false,
    "pycharm": {
     "name": "#%%\n"
    }
   }
  },
  {
   "cell_type": "code",
   "execution_count": 9,
   "outputs": [],
   "source": [],
   "metadata": {
    "collapsed": false,
    "pycharm": {
     "name": "#%%\n"
    }
   }
  },
  {
   "cell_type": "code",
   "execution_count": null,
   "outputs": [],
   "source": [],
   "metadata": {
    "collapsed": false,
    "pycharm": {
     "name": "#%%"
    }
   }
  }
 ],
 "metadata": {
  "kernelspec": {
   "display_name": "Python 3",
   "language": "python",
   "name": "python3"
  },
  "language_info": {
   "codemirror_mode": {
    "name": "ipython",
    "version": 2
   },
   "file_extension": ".py",
   "mimetype": "text/x-python",
   "name": "python",
   "nbconvert_exporter": "python",
   "pygments_lexer": "ipython2",
   "version": "2.7.6"
  }
 },
 "nbformat": 4,
 "nbformat_minor": 0
}