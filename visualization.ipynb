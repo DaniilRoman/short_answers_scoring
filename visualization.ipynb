{
 "cells": [
  {
   "cell_type": "code",
   "execution_count": null,
   "outputs": [],
   "source": [
    "%%capture\n",
    "#@title Setup Environment\n",
    "# Install the latest Tensorflow version.\n",
    "!pip3 install tensorflow_text\n",
    "!pip3 install --upgrade tensorflow-gpu\n",
    "!pip install tensorflow-hub\n",
    "!pip install bokeh\n",
    "!pip install simpleneighbors\n",
    "!pip install tqdm\n",
    "\n",
    "import seaborn as sns\n",
    "\n",
    "import bokeh\n",
    "import bokeh.models\n",
    "import bokeh.plotting"
   ],
   "metadata": {
    "collapsed": false,
    "pycharm": {
     "name": "#%%\n"
    }
   }
  },
  {
   "cell_type": "code",
   "execution_count": 2,
   "outputs": [],
   "source": [
    "import json\n",
    "import matplotlib.pyplot as plt\n",
    "import numpy as np\n",
    "import pandas as pd\n",
    "from sklearn.metrics.pairwise import cosine_similarity"
   ],
   "metadata": {
    "collapsed": false,
    "pycharm": {
     "name": "#%%\n"
    }
   }
  },
  {
   "cell_type": "code",
   "execution_count": null,
   "outputs": [],
   "source": [
    "\n",
    "def visualize_similarity(embeddings_1, embeddings_2, labels_1, labels_2,\n",
    "                         plot_title,\n",
    "                         plot_width=1200, plot_height=600,\n",
    "                         xaxis_font_size='12pt', yaxis_font_size='12pt'):\n",
    "\n",
    "  assert len(embeddings_1) == len(labels_1)\n",
    "  assert len(embeddings_2) == len(labels_2)\n",
    "\n",
    "  # arccos based text similarity (Yang et al. 2019; Cer et al. 2019)\n",
    "  sim = 1 - np.arccos(\n",
    "      sklearn.metrics.pairwise.cosine_similarity(embeddings_1,\n",
    "                                                 embeddings_2))/np.pi\n",
    "\n",
    "  embeddings_1_col, embeddings_2_col, sim_col = [], [], []\n",
    "  for i in range(len(embeddings_1)):\n",
    "    for j in range(len(embeddings_2)):\n",
    "      embeddings_1_col.append(labels_1[i])\n",
    "      embeddings_2_col.append(labels_2[j])\n",
    "      sim_col.append(sim[i][j])\n",
    "  df = pd.DataFrame(zip(embeddings_1_col, embeddings_2_col, sim_col),\n",
    "                    columns=['embeddings_1', 'embeddings_2', 'sim'])\n",
    "\n",
    "  mapper = bokeh.models.LinearColorMapper(\n",
    "      palette=[*reversed(bokeh.palettes.YlOrRd[9])], low=df.sim.min(),\n",
    "      high=df.sim.max())\n",
    "\n",
    "  p = bokeh.plotting.figure(title=plot_title, x_range=labels_1,\n",
    "                            x_axis_location=\"above\",\n",
    "                            y_range=[*reversed(labels_2)],\n",
    "                            plot_width=plot_width, plot_height=plot_height,\n",
    "                            tools=\"save\",toolbar_location='below', tooltips=[\n",
    "                                ('pair', '@embeddings_1 ||| @embeddings_2'),\n",
    "                                ('sim', '@sim')])\n",
    "  p.rect(x=\"embeddings_1\", y=\"embeddings_2\", width=1, height=1, source=df,\n",
    "         fill_color={'field': 'sim', 'transform': mapper}, line_color=None)\n",
    "\n",
    "  p.title.text_font_size = '12pt'\n",
    "  p.axis.axis_line_color = None\n",
    "  p.axis.major_tick_line_color = None\n",
    "  p.axis.major_label_standoff = 16\n",
    "  p.xaxis.major_label_text_font_size = xaxis_font_size\n",
    "  p.xaxis.major_label_orientation = 0.25 * np.pi\n",
    "  p.yaxis.major_label_text_font_size = yaxis_font_size\n",
    "  p.min_border_right = 300\n",
    "\n",
    "  bokeh.io.output_notebook()\n",
    "  bokeh.io.show(p)"
   ],
   "metadata": {
    "collapsed": false,
    "pycharm": {
     "name": "#%%\n"
    }
   }
  },
  {
   "cell_type": "code",
   "execution_count": null,
   "metadata": {
    "collapsed": true,
    "pycharm": {
     "name": "#%%\n"
    }
   },
   "outputs": [],
   "source": [
    "def vis_sim(etalon_l, answers_l, etalon_emb, answers_emb):\n",
    "\n",
    "    answers_sim = [get_similarities(etalon_emb, [ans_emb]) for ans_emb in answers_emb]\n",
    "\n",
    "    answers_sim = [list(map(lambda x: x[0][0], answers_sim))]\n",
    "\n",
    "    fig, ax = plt.subplots(figsize=(10,6))\n",
    "    sns.heatmap(answers_sim, center=0, annot=True, cbar=False)\n",
    "\n",
    "    ax.set_yticklabels([\"etalon\"])\n",
    "    ax.set_xticklabels([\"%i answer\" % (i+1) for i in range(len(answers_l))])\n",
    "\n",
    "    print(\"etalon - %s\" % etalon_l[0])\n",
    "    for i in range(len(answers_l)):\n",
    "        print(\"%i answer - %s\" % (i+1, answers_l[i]))\n",
    "\n",
    "    plt.show()\n",
    "\n",
    "def get_embeddings(sequence):\n",
    "    return embed_text(sequence)\n",
    "\n",
    "def chunks(lst, n):\n",
    "    \"\"\"Yield successive n-sized chunks from lst.\"\"\"\n",
    "    for i in range(0, len(lst), n):\n",
    "        yield lst[i:i + n]\n",
    "\n"
   ]
  },
  {
   "cell_type": "code",
   "execution_count": 7,
   "outputs": [],
   "source": [
    "ALL_SCORES_FILE_NAME = \"all_scores\"\n",
    "MOST_SCORES_FILE_NAME = \"most_scores\"\n",
    "LESS_SCORES_FILE_NAME = \"less_scores\"\n",
    "CLASSIFICATION_RESULT = \"/home/droman/Documents/diploma/deeppavlov_ner_3.6/data/output/classification/scores.json\"\n",
    "\n",
    "def print_scores(scores_structure, file_name):\n",
    "    features_names = scores_structure[0] #[', '.join(x) for x in scores_structure[0]]\n",
    "    features = scores_structure[1]\n",
    "    feature_indexies = list(range(len(features)))\n",
    "    # plt.figure(figsize=(20,20))\n",
    "    plt.figure(figsize=(20, 10))\n",
    "    plt.rcParams.update({'font.size': 30})\n",
    "    plt.bar(feature_indexies, scores_structure[1], align='edge', width=0.3)\n",
    "    plt.ylabel('score', fontsize=44)\n",
    "    plt.xlabel('features', fontsize=44)\n",
    "    file_prefix = '/home/droman/Documents/diploma/deeppavlov_ner_3.6/data/output/images/'\n",
    "    plt.savefig(file_prefix + file_name+'.png')\n",
    "    plt.show()\n",
    "    lines = \"\"\n",
    "    for i in range(len(feature_indexies)):\n",
    "        line = str(i) + \" - \" + str(round(features[i], 2)) + \": \" + features_names[i] + \" :\"\n",
    "        lines += line + \"\\n\"\n",
    "    with open(file_prefix + file_name + \".txt\", \"w\") as file:\n",
    "        print(lines)\n",
    "        file.write(lines)\n",
    "\n",
    "def get_scores(input=CLASSIFICATION_RESULT):\n",
    "    with open(input) as json_file:\n",
    "        return json.load(json_file)\n",
    "\n",
    "def get_columns_from_json(scores_data):\n",
    "    try:\n",
    "        return [item[\"data_type\"] + \": \" + ', '.join(x_column) + \" :\" for item in scores_data[\"items\"] for x_column in item[\"x_columns\"]]\n",
    "    except:\n",
    "        return [', '.join(x_column) for item in scores_data[\"items\"] for x_column in item[\"x_columns\"]]\n",
    "\n",
    "\n",
    "def get_scores_from_json(scores_data):\n",
    "    res = [score for item in scores_data[\"items\"] for score in item[\"scores\"]]\n",
    "    return res\n",
    "\n",
    "def most_scored():\n",
    "    print_scored_abstract(lambda x: x[-10:], MOST_SCORES_FILE_NAME)\n",
    "\n",
    "def less_scored():\n",
    "    print_scored_abstract(lambda x: x[:10], LESS_SCORES_FILE_NAME)\n",
    "\n",
    "def scores_by_feature(feature, feature2=None):\n",
    "    def filter_fun(xx):\n",
    "        if feature2 is None:\n",
    "            return feature in xx[0]\n",
    "        else:\n",
    "            return feature in xx[0] or feature2 in xx[0]\n",
    "    print_scored_abstract(lambda x: list(filter(filter_fun, x)), \"scores_by_\" + feature)\n",
    "\n",
    "def all_scored():\n",
    "    print_scored_abstract(lambda x: x, ALL_SCORES_FILE_NAME)\n",
    "\n",
    "def print_scored_abstract(get_part, file_name):\n",
    "    scores_data = get_scores()\n",
    "\n",
    "    columns = get_columns_from_json(scores_data)\n",
    "    scores = get_scores_from_json(scores_data)\n",
    "\n",
    "    pairs = []\n",
    "    assert len(columns) == len(scores)\n",
    "    for i in range(len(columns)):\n",
    "        pairs.append([columns[i], scores[i]])\n",
    "\n",
    "    pairs = sorted(pairs, key=lambda x: x[1])\n",
    "    pairs = get_part(pairs)\n",
    "\n",
    "    columns = [i[0] for i in pairs]\n",
    "    scores = [i[1] for i in pairs]\n",
    "\n",
    "    print_scores([columns, scores], file_name)"
   ],
   "metadata": {
    "collapsed": false,
    "pycharm": {
     "name": "#%%\n"
    }
   }
  },
  {
   "cell_type": "code",
   "execution_count": 11,
   "outputs": [
    {
     "data": {
      "text/plain": "<Figure size 1440x720 with 1 Axes>",
      "image/png": "[encoded data removed]"
     },
     "metadata": {
      "needs_background": "light"
     },
     "output_type": "display_data"
    },
    {
     "name": "stdout",
     "output_type": "stream",
     "text": [
      "0 - 0.91: data_origin/use_distance, data_preprocess/laser_distance :\n",
      "1 - 0.91: data_preprocess/laser_distance, data_semi_preprocc_with_stopwords/use_distance :\n",
      "2 - 0.91: data_preprocess/laser_distance, data_semi_preprocess_without_stopwords/use_distance :\n",
      "3 - 0.91: data_preprocess/bert_distance, data_semi_preprocc_with_stopwords/use_distance :\n",
      "4 - 0.91: data_preprocess/bert_distance, data_semi_preprocess_without_stopwords/use_distance :\n",
      "5 - 0.92: data_origin/tfidf_distance, data_preprocess/bert_distance :\n",
      "6 - 0.92: data_semi_preprocc_with_stopwords/use_distance, data_semi_preprocc_with_stopwords/bert_distance :\n",
      "7 - 0.92: data_semi_preprocc_with_stopwords/use_distance, data_semi_preprocess_without_stopwords/bert_distance :\n",
      "8 - 0.92: data_semi_preprocc_with_stopwords/bert_distance, data_semi_preprocess_without_stopwords/use_distance :\n",
      "9 - 0.92: data_semi_preprocess_without_stopwords/use_distance, data_semi_preprocess_without_stopwords/bert_distance :\n",
      "\n"
     ]
    }
   ],
   "source": [
    "# less_scored()\n",
    "most_scored()\n",
    "# all_scored()\n",
    "# scores_by_feature(\": ner_overlap\", \": laser_distance :\")"
   ],
   "metadata": {
    "collapsed": false,
    "pycharm": {
     "name": "#%%\n"
    }
   }
  },
  {
   "cell_type": "code",
   "execution_count": 10,
   "outputs": [],
   "source": [
    "# scores_by_feature(\": laser_distance :\")\n",
    "# scores_by_feature(\": ner_overlap :\")\n",
    "# scores_by_feature(\": fasttext_distance :\")\n",
    "# scores_by_feature(\": bert_distance :\")\n",
    "# scores_by_feature(\": use_distance :\")\n",
    "# scores_by_feature(\": tfidf_distance :\")\n",
    "\n"
   ],
   "metadata": {
    "collapsed": false,
    "pycharm": {
     "name": "#%%\n"
    }
   }
  },
  {
   "cell_type": "code",
   "execution_count": 9,
   "outputs": [],
   "source": [
    "# вывести все-------------\n",
    "# топ лучший--------------\n",
    "# топ худших--------------\n",
    "# сравнить лучшие между разными данными\n",
    "# сравнить худшие между разными данными\n",
    "# сравнить один набор фич с разными типами данных, как будто по времени\n",
    "# попробовать проанализировать вклад custom ner\n",
    "# сравнить фичи по отдельности\n",
    "\n"
   ],
   "metadata": {
    "collapsed": false,
    "pycharm": {
     "name": "#%%\n"
    }
   }
  },
  {
   "cell_type": "code",
   "execution_count": 9,
   "outputs": [],
   "source": [],
   "metadata": {
    "collapsed": false,
    "pycharm": {
     "name": "#%%\n"
    }
   }
  },
  {
   "cell_type": "code",
   "execution_count": null,
   "outputs": [],
   "source": [],
   "metadata": {
    "collapsed": false,
    "pycharm": {
     "name": "#%%\n"
    }
   }
  }
 ],
 "metadata": {
  "kernelspec": {
   "display_name": "Python 3",
   "language": "python",
   "name": "python3"
  },
  "language_info": {
   "codemirror_mode": {
    "name": "ipython",
    "version": 2
   },
   "file_extension": ".py",
   "mimetype": "text/x-python",
   "name": "python",
   "nbconvert_exporter": "python",
   "pygments_lexer": "ipython2",
   "version": "2.7.6"
  }
 },
 "nbformat": 4,
 "nbformat_minor": 0
}