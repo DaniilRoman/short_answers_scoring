{
 "cells": [
  {
   "cell_type": "code",
   "execution_count": null,
   "metadata": {
    "collapsed": true
   },
   "outputs": [],
   "source": [
    "# sentence = 'Директором ОАО \"Страна Чудес\" назначена Алиса'\n",
    "#\n",
    "# # Можно так же список слов\n",
    "# # sentence = ['Директором', 'ОАО', '\"', 'Страна', 'Чудес', '\"', 'назначена', 'Алиса']\n",
    "#\n",
    "# tokens, tags = ner(['Ио́сиф Виссарио́нович Ста́лин — российский революционер, советский политический, государственный, военный и партийный деятель. С 21 января 1924 по 5 марта 1953 — руководитель СССР. Маршал Советского Союза, Генералиссимус Советского Союза.'])\n",
    "# for tok, tag in zip(tokens[0], tags[0]):\n",
    "#     print(f'{tok}\\t{tag}')\n",
    "#\n",
    "# example_str = ['Ио́сиф Виссарио́нович Ста́лин — российский революционер, советский политический, государственный, военный и партийный деятель. С 21 января 1924 по 5 марта 1953 — руководитель СССР. Маршал Советского Союза, Генералиссимус Советского Союза.']\n",
    "#"
   ]
  },
  {
   "cell_type": "code",
   "execution_count": null,
   "outputs": [],
   "source": [
    "# tokens, tags = ner_multi(['Ио́сиф Виссарио́нович Ста́лин — российский революционер, советский политический, государственный, военный и партийный деятель. С 21 января 1924 по 5 марта 1953 — руководитель СССР. Маршал Советского Союза, Генералиссимус Советского Союза.'])\n",
    "#\n",
    "# tokens = tokens[0]\n",
    "# tags = tags[0]\n",
    "# print_tokens(tokens, tags)\n",
    "# #################################################################################\n",
    "# filtered_tokens, filtered_tags = filter_after_ner(tokens, tags)\n",
    "# print_tokens(filtered_tokens, filtered_tags)\n",
    "#\n",
    "# ##############################################\n",
    "#\n",
    "# full_entities = get_deeppavlov_entities(tokens, tags)\n",
    "# part_entities = full_entities[:-2]\n"
   ],
   "metadata": {
    "collapsed": false,
    "pycharm": {
     "name": "#%%\n"
    }
   }
  },
  {
   "cell_type": "code",
   "execution_count": null,
   "outputs": [],
   "source": [
    "# text = '''\n",
    "# Взыскать к индивидуального предпринимателя Иванова Костантипа Петровича дата рождения 10 января 1970 года, проживающего по адресу город Санкт-Петербург, ул. Крузенштерна, дом 5/1А 8 000 (восемь тысяч) рублей 00 копеей госпошлины в пользу бюджета РФ\n",
    "# '''\n",
    "# spans = []\n",
    "# facts = []\n",
    "# for extractor in extractors:\n",
    "#     matches = extractor(text)\n",
    "#     spans.extend(_ for _ in matches)\n",
    "#\n",
    "# spans\n"
   ],
   "metadata": {
    "collapsed": false,
    "pycharm": {
     "name": "#%%\n"
    }
   }
  }
 ],
 "metadata": {
  "kernelspec": {
   "display_name": "Python 3",
   "language": "python",
   "name": "python3"
  },
  "language_info": {
   "codemirror_mode": {
    "name": "ipython",
    "version": 2
   },
   "file_extension": ".py",
   "mimetype": "text/x-python",
   "name": "python",
   "nbconvert_exporter": "python",
   "pygments_lexer": "ipython2",
   "version": "2.7.6"
  }
 },
 "nbformat": 4,
 "nbformat_minor": 0
}