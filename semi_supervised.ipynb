{
 "cells": [
  {
   "cell_type": "code",
   "execution_count": 47,
   "metadata": {
    "collapsed": true
   },
   "outputs": [],
   "source": [
    "import numpy as np\n",
    "from sklearn.datasets import load_digits\n",
    "from sklearn.metrics import classification_report\n",
    "from sklearn.semi_supervised import LabelPropagation\n",
    "from sklearn.semi_supervised import LabelSpreading\n",
    "import pandas as pd"
   ]
  },
  {
   "cell_type": "code",
   "execution_count": 48,
   "outputs": [
    {
     "name": "stdout",
     "output_type": "stream",
     "text": [
      "              precision    recall  f1-score   support\n",
      "\n",
      "           0       1.00      1.00      1.00       161\n",
      "           1       0.97      1.00      0.98       163\n",
      "           2       1.00      0.97      0.99       159\n",
      "           3       0.98      0.99      0.99       168\n",
      "           4       1.00      0.98      0.99       159\n",
      "           5       0.99      0.98      0.98       161\n",
      "           6       0.99      0.99      0.99       166\n",
      "           7       1.00      0.99      1.00       159\n",
      "           8       0.93      0.96      0.95       160\n",
      "           9       0.97      0.96      0.97       161\n",
      "\n",
      "    accuracy                           0.98      1617\n",
      "   macro avg       0.98      0.98      0.98      1617\n",
      "weighted avg       0.98      0.98      0.98      1617\n",
      "\n"
     ]
    }
   ],
   "source": [
    "np.random.seed(0)\n",
    "X, y_true = load_digits(return_X_y=True)\n",
    "n = len(y_true)\n",
    "mask = np.random.choice(range(n), 9*n//10, replace=False)\n",
    "y_missing = y_true.copy()\n",
    "y_missing[mask] = -1 # -1 indicates a missing label\n",
    "lp = LabelSpreading(gamma=.25) # rbf is the default, gamma = 1/σ²!\n",
    "lp.fit(X, y_missing) # run the algorithm we described above\n",
    "print(classification_report(y_true[mask], lp.transduction_[mask]))"
   ],
   "metadata": {
    "collapsed": false,
    "pycharm": {
     "name": "#%%\n"
    }
   }
  },
  {
   "cell_type": "code",
   "execution_count": 61,
   "outputs": [],
   "source": [
    "data = pd.read_csv(\"../spacy/data/concat_result.csv\")"
   ],
   "metadata": {
    "collapsed": false,
    "pycharm": {
     "name": "#%%\n"
    }
   }
  },
  {
   "cell_type": "code",
   "execution_count": 62,
   "outputs": [
    {
     "data": {
      "text/plain": "   Unnamed: 0                                           original  \\\n0           0  Вели́кое кня́жество Влади́мирское, до 1157года...   \n1           1  Новгоро́дская респу́блика — севернорусское сре...   \n2           2  Вели́кое кня́жество Лито́вское— восточноевропе...   \n3           3  Вели́кое кня́жество Моско́вское— средневековое...   \n4           4  Оле́г — князь Новгородский с 879 года и велики...   \n\n                                         scored_text  distance  score  \\\n0   С середины XIII века сюзеренитет великих княз...  0.923924      5   \n1   Находясь с 1245 года под сюзеренитетом велики...  0.908120      5   \n2  С 1385 года находилось в личной унии с Королев...  0.861883      5   \n3   Возвышению Москвы и укреплению её авторитета ...  0.901416      5   \n4   Получив власть над новгородскими землями посл...  0.916509      5   \n\n   use_distance  Unnamed: 0.1  \\\n0      0.848728             0   \n1      0.676025             1   \n2      0.483404             2   \n3      0.519507             3   \n4      0.431697             4   \n\n                                          original.1  \\\n0  Вели́кое кня́жество Влади́мирское, до 1157года...   \n1  Новгоро́дская респу́блика — севернорусское сре...   \n2  Вели́кое кня́жество Лито́вское— восточноевропе...   \n3  Вели́кое кня́жество Моско́вское— средневековое...   \n4  Оле́г — князь Новгородский с 879 года и велики...   \n\n                                       scored_text.1  distance.1  score.1  \\\n0   С середины XIII века сюзеренитет великих княз...    0.923924        5   \n1   Находясь с 1245 года под сюзеренитетом велики...    0.908120        5   \n2  С 1385 года находилось в личной унии с Королев...    0.861883        5   \n3   Возвышению Москвы и укреплению её авторитета ...    0.901416        5   \n4   Получив власть над новгородскими землями посл...    0.916509        5   \n\n   use_distance.1  fasttext_distance  Unnamed: 0.2  \\\n0        0.848728           0.991490             0   \n1        0.676025           0.997564             1   \n2        0.483404           0.996993             2   \n3        0.519507           0.987735             3   \n4        0.431697           0.978526             4   \n\n                                          original.2  \\\n0  Вели́кое кня́жество Влади́мирское, до 1157года...   \n1  Новгоро́дская респу́блика — севернорусское сре...   \n2  Вели́кое кня́жество Лито́вское— восточноевропе...   \n3  Вели́кое кня́жество Моско́вское— средневековое...   \n4  Оле́г — князь Новгородский с 879 года и велики...   \n\n                                       scored_text.2  distance.2  score.2  \\\n0   С середины XIII века сюзеренитет великих княз...    0.923924        5   \n1   Находясь с 1245 года под сюзеренитетом велики...    0.908120        5   \n2  С 1385 года находилось в личной унии с Королев...    0.861883        5   \n3   Возвышению Москвы и укреплению её авторитета ...    0.901416        5   \n4   Получив власть над новгородскими землями посл...    0.916509        5   \n\n   ner_overlap  \n0     0.833333  \n1     0.866667  \n2     0.555556  \n3     1.000000  \n4     0.875000  ",
      "text/html": "<div>\n<style scoped>\n    .dataframe tbody tr th:only-of-type {\n        vertical-align: middle;\n    }\n\n    .dataframe tbody tr th {\n        vertical-align: top;\n    }\n\n    .dataframe thead th {\n        text-align: right;\n    }\n</style>\n<table border=\"1\" class=\"dataframe\">\n  <thead>\n    <tr style=\"text-align: right;\">\n      <th></th>\n      <th>Unnamed: 0</th>\n      <th>original</th>\n      <th>scored_text</th>\n      <th>distance</th>\n      <th>score</th>\n      <th>use_distance</th>\n      <th>Unnamed: 0.1</th>\n      <th>original.1</th>\n      <th>scored_text.1</th>\n      <th>distance.1</th>\n      <th>score.1</th>\n      <th>use_distance.1</th>\n      <th>fasttext_distance</th>\n      <th>Unnamed: 0.2</th>\n      <th>original.2</th>\n      <th>scored_text.2</th>\n      <th>distance.2</th>\n      <th>score.2</th>\n      <th>ner_overlap</th>\n    </tr>\n  </thead>\n  <tbody>\n    <tr>\n      <th>0</th>\n      <td>0</td>\n      <td>Вели́кое кня́жество Влади́мирское, до 1157года...</td>\n      <td>С середины XIII века сюзеренитет великих княз...</td>\n      <td>0.923924</td>\n      <td>5</td>\n      <td>0.848728</td>\n      <td>0</td>\n      <td>Вели́кое кня́жество Влади́мирское, до 1157года...</td>\n      <td>С середины XIII века сюзеренитет великих княз...</td>\n      <td>0.923924</td>\n      <td>5</td>\n      <td>0.848728</td>\n      <td>0.991490</td>\n      <td>0</td>\n      <td>Вели́кое кня́жество Влади́мирское, до 1157года...</td>\n      <td>С середины XIII века сюзеренитет великих княз...</td>\n      <td>0.923924</td>\n      <td>5</td>\n      <td>0.833333</td>\n    </tr>\n    <tr>\n      <th>1</th>\n      <td>1</td>\n      <td>Новгоро́дская респу́блика — севернорусское сре...</td>\n      <td>Находясь с 1245 года под сюзеренитетом велики...</td>\n      <td>0.908120</td>\n      <td>5</td>\n      <td>0.676025</td>\n      <td>1</td>\n      <td>Новгоро́дская респу́блика — севернорусское сре...</td>\n      <td>Находясь с 1245 года под сюзеренитетом велики...</td>\n      <td>0.908120</td>\n      <td>5</td>\n      <td>0.676025</td>\n      <td>0.997564</td>\n      <td>1</td>\n      <td>Новгоро́дская респу́блика — севернорусское сре...</td>\n      <td>Находясь с 1245 года под сюзеренитетом велики...</td>\n      <td>0.908120</td>\n      <td>5</td>\n      <td>0.866667</td>\n    </tr>\n    <tr>\n      <th>2</th>\n      <td>2</td>\n      <td>Вели́кое кня́жество Лито́вское— восточноевропе...</td>\n      <td>С 1385 года находилось в личной унии с Королев...</td>\n      <td>0.861883</td>\n      <td>5</td>\n      <td>0.483404</td>\n      <td>2</td>\n      <td>Вели́кое кня́жество Лито́вское— восточноевропе...</td>\n      <td>С 1385 года находилось в личной унии с Королев...</td>\n      <td>0.861883</td>\n      <td>5</td>\n      <td>0.483404</td>\n      <td>0.996993</td>\n      <td>2</td>\n      <td>Вели́кое кня́жество Лито́вское— восточноевропе...</td>\n      <td>С 1385 года находилось в личной унии с Королев...</td>\n      <td>0.861883</td>\n      <td>5</td>\n      <td>0.555556</td>\n    </tr>\n    <tr>\n      <th>3</th>\n      <td>3</td>\n      <td>Вели́кое кня́жество Моско́вское— средневековое...</td>\n      <td>Возвышению Москвы и укреплению её авторитета ...</td>\n      <td>0.901416</td>\n      <td>5</td>\n      <td>0.519507</td>\n      <td>3</td>\n      <td>Вели́кое кня́жество Моско́вское— средневековое...</td>\n      <td>Возвышению Москвы и укреплению её авторитета ...</td>\n      <td>0.901416</td>\n      <td>5</td>\n      <td>0.519507</td>\n      <td>0.987735</td>\n      <td>3</td>\n      <td>Вели́кое кня́жество Моско́вское— средневековое...</td>\n      <td>Возвышению Москвы и укреплению её авторитета ...</td>\n      <td>0.901416</td>\n      <td>5</td>\n      <td>1.000000</td>\n    </tr>\n    <tr>\n      <th>4</th>\n      <td>4</td>\n      <td>Оле́г — князь Новгородский с 879 года и велики...</td>\n      <td>Получив власть над новгородскими землями посл...</td>\n      <td>0.916509</td>\n      <td>5</td>\n      <td>0.431697</td>\n      <td>4</td>\n      <td>Оле́г — князь Новгородский с 879 года и велики...</td>\n      <td>Получив власть над новгородскими землями посл...</td>\n      <td>0.916509</td>\n      <td>5</td>\n      <td>0.431697</td>\n      <td>0.978526</td>\n      <td>4</td>\n      <td>Оле́г — князь Новгородский с 879 года и велики...</td>\n      <td>Получив власть над новгородскими землями посл...</td>\n      <td>0.916509</td>\n      <td>5</td>\n      <td>0.875000</td>\n    </tr>\n  </tbody>\n</table>\n</div>"
     },
     "execution_count": 62,
     "metadata": {},
     "output_type": "execute_result"
    }
   ],
   "source": [
    "data.head()\n"
   ],
   "metadata": {
    "collapsed": false,
    "pycharm": {
     "name": "#%%\n"
    }
   }
  },
  {
   "cell_type": "code",
   "execution_count": 63,
   "outputs": [],
   "source": [
    "X = data[\"fasttext_distance\"]\n",
    "Y = data[\"score\"]"
   ],
   "metadata": {
    "collapsed": false,
    "pycharm": {
     "name": "#%%\n"
    }
   }
  },
  {
   "cell_type": "code",
   "execution_count": 64,
   "outputs": [],
   "source": [
    "np.random.seed(0)\n",
    "n = len(Y)\n",
    "not_using_indexes = np.random.choice(range(n), 9*n//10, replace=False)"
   ],
   "metadata": {
    "collapsed": false,
    "pycharm": {
     "name": "#%%\n"
    }
   }
  },
  {
   "cell_type": "code",
   "execution_count": 65,
   "outputs": [],
   "source": [
    "y_missing = Y.copy()\n",
    "y_missing[not_using_indexes] = -1"
   ],
   "metadata": {
    "collapsed": false,
    "pycharm": {
     "name": "#%%\n"
    }
   }
  },
  {
   "cell_type": "code",
   "execution_count": 66,
   "outputs": [
    {
     "name": "stdout",
     "output_type": "stream",
     "text": [
      "              precision    recall  f1-score   support\n",
      "\n",
      "           3       0.70      0.78      0.74        50\n",
      "           4       0.45      0.47      0.46        47\n",
      "           5       0.75      0.62      0.68        48\n",
      "\n",
      "    accuracy                           0.63       145\n",
      "   macro avg       0.63      0.62      0.63       145\n",
      "weighted avg       0.63      0.63      0.63       145\n",
      "\n"
     ]
    },
    {
     "name": "stderr",
     "output_type": "stream",
     "text": [
      "/home/droman/Documents/diploma/venv/lib/python3.8/site-packages/sklearn/semi_supervised/label_propagation.py:293: RuntimeWarning: invalid value encountered in true_divide\n",
      "  self.label_distributions_ /= normalizer\n"
     ]
    }
   ],
   "source": [
    "lp = LabelSpreading(gamma=.25, kernel=\"knn\")\n",
    "_x = X.to_numpy().reshape(-1, 1)\n",
    "_y = y_missing.to_numpy()\n",
    "lp.fit(_x, _y)\n",
    "print(classification_report(Y[not_using_indexes], lp.transduction_[not_using_indexes]))"
   ],
   "metadata": {
    "collapsed": false,
    "pycharm": {
     "name": "#%%\n"
    }
   }
  },
  {
   "cell_type": "code",
   "execution_count": 40,
   "outputs": [],
   "source": [],
   "metadata": {
    "collapsed": false,
    "pycharm": {
     "name": "#%%\n"
    }
   }
  },
  {
   "cell_type": "code",
   "execution_count": null,
   "outputs": [],
   "source": [],
   "metadata": {
    "collapsed": false,
    "pycharm": {
     "name": "#%%\n"
    }
   }
  },
  {
   "cell_type": "code",
   "execution_count": null,
   "outputs": [],
   "source": [],
   "metadata": {
    "collapsed": false,
    "pycharm": {
     "name": "#%%\n"
    }
   }
  },
  {
   "cell_type": "code",
   "execution_count": null,
   "outputs": [],
   "source": [],
   "metadata": {
    "collapsed": false,
    "pycharm": {
     "name": "#%%\n"
    }
   }
  },
  {
   "cell_type": "code",
   "execution_count": null,
   "outputs": [],
   "source": [],
   "metadata": {
    "collapsed": false,
    "pycharm": {
     "name": "#%%\n"
    }
   }
  },
  {
   "cell_type": "code",
   "execution_count": null,
   "outputs": [],
   "source": [],
   "metadata": {
    "collapsed": false,
    "pycharm": {
     "name": "#%%\n"
    }
   }
  },
  {
   "cell_type": "code",
   "execution_count": null,
   "outputs": [],
   "source": [],
   "metadata": {
    "collapsed": false,
    "pycharm": {
     "name": "#%%\n"
    }
   }
  },
  {
   "cell_type": "code",
   "execution_count": null,
   "outputs": [],
   "source": [],
   "metadata": {
    "collapsed": false,
    "pycharm": {
     "name": "#%%\n"
    }
   }
  },
  {
   "cell_type": "code",
   "execution_count": null,
   "outputs": [],
   "source": [],
   "metadata": {
    "collapsed": false,
    "pycharm": {
     "name": "#%%\n"
    }
   }
  },
  {
   "cell_type": "code",
   "execution_count": null,
   "outputs": [],
   "source": [],
   "metadata": {
    "collapsed": false,
    "pycharm": {
     "name": "#%%\n"
    }
   }
  }
 ],
 "metadata": {
  "kernelspec": {
   "display_name": "Python 3",
   "language": "python",
   "name": "python3"
  },
  "language_info": {
   "codemirror_mode": {
    "name": "ipython",
    "version": 2
   },
   "file_extension": ".py",
   "mimetype": "text/x-python",
   "name": "python",
   "nbconvert_exporter": "python",
   "pygments_lexer": "ipython2",
   "version": "2.7.6"
  }
 },
 "nbformat": 4,
 "nbformat_minor": 0
}