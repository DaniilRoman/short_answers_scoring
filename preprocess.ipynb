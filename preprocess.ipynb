{
 "cells": [
  {
   "cell_type": "code",
   "execution_count": 1,
   "outputs": [
    {
     "name": "stdout",
     "output_type": "stream",
     "text": [
      "/bin/bash: -c: line 0: syntax error near unexpected token `'stopwords''\r\n",
      "/bin/bash: -c: line 0: `nltk.download('stopwords')'\r\n"
     ]
    }
   ],
   "source": [
    "!nltk.download('stopwords')\n",
    "\n",
    "import re\n",
    "from nltk.corpus import stopwords\n",
    "from nltk.tokenize import sent_tokenize, word_tokenize\n",
    "from nltk.stem import SnowballStemmer\n",
    "import pymorphy2\n",
    "from pymystem3 import Mystem\n",
    "from string import punctuation\n",
    "\n",
    "stop_words = stopwords.words('russian')\n",
    "stop_words.remove(\"не\")\n",
    "stop_words.remove(\"ни\")\n",
    "mystem = Mystem()\n",
    "stemmer = SnowballStemmer(language='russian')\n",
    "morph = pymorphy2.MorphAnalyzer()"
   ],
   "metadata": {
    "collapsed": false,
    "pycharm": {
     "name": "#%%\n"
    }
   }
  },
  {
   "cell_type": "code",
   "execution_count": 2,
   "outputs": [
    {
     "data": {
      "text/plain": "'екатерина i   —  российский императрица 1721 год'"
     },
     "execution_count": 2,
     "metadata": {},
     "output_type": "execute_result"
    }
   ],
   "source": [
    "text = \"Екатери́на I (Ма́рта Самуи́ловна Скавро́нская, в браке Крузе; после принятия православия Екатери́на Алексе́евна Миха́йлова; 5 [15] апреля 1684 — 6 [17] мая 1727, Санкт-Петербург) — российская императрица с 1721 года (как супруга царствующего императора)\"\n",
    "\n",
    "def preprocess(text, is_stem = False, is_morph = True, is_remove_stop_words = True):\n",
    "    if text is None:\n",
    "        text = \"\"\n",
    "    text = text.lower()\n",
    "    text = re.sub(r'\\[.*?\\]|\\(.*?\\)|\\n|,|\\.|\\xa0|;', \"\", text).replace(chr(769), \"\")\n",
    "    # tokens = word_tokenize(text, language='russian')\n",
    "    tokens = mystem.lemmatize(text)\n",
    "    if is_remove_stop_words:\n",
    "        tokens = [token for token in tokens if token not in stop_words\\\n",
    "            and token != \" \" and token != '' \\\n",
    "            and token.strip() not in punctuation]\n",
    "\n",
    "    if is_stem:\n",
    "        tokens = list(map(lambda x: stemmer.stem(x), tokens))\n",
    "    if is_morph:\n",
    "        tokens = list(map(lambda x: morph.parse(x)[0].normal_form, tokens))\n",
    "\n",
    "    return ' '.join(tokens)\n",
    "\n",
    "preprocess(text)\n",
    "\n",
    "\n",
    "# PREPROCESS FOR LABELING"
   ],
   "metadata": {
    "collapsed": false,
    "pycharm": {
     "name": "#%%\n"
    }
   }
  },
  {
   "cell_type": "code",
   "execution_count": 15,
   "outputs": [
    {
     "data": {
      "text/plain": "   Unnamed: 0                                           original  \\\n0           0  Вели́кое кня́жество Влади́мирское, до 1157года...   \n1           1  Новгоро́дская респу́блика — севернорусское сре...   \n2           2  Вели́кое кня́жество Лито́вское— восточноевропе...   \n3           3  Вели́кое кня́жество Моско́вское— средневековое...   \n4           4  Оле́г — князь Новгородский с 879 года и велики...   \n\n                                         scored_text  distance  score  \n0   С середины XIII века сюзеренитет великих княз...  0.923924      5  \n1   Находясь с 1245 года под сюзеренитетом велики...  0.908120      5  \n2  С 1385 года находилось в личной унии с Королев...  0.861883      5  \n3   Возвышению Москвы и укреплению её авторитета ...  0.901416      5  \n4   Получив власть над новгородскими землями посл...  0.916509      5  ",
      "text/html": "<div>\n<style scoped>\n    .dataframe tbody tr th:only-of-type {\n        vertical-align: middle;\n    }\n\n    .dataframe tbody tr th {\n        vertical-align: top;\n    }\n\n    .dataframe thead th {\n        text-align: right;\n    }\n</style>\n<table border=\"1\" class=\"dataframe\">\n  <thead>\n    <tr style=\"text-align: right;\">\n      <th></th>\n      <th>Unnamed: 0</th>\n      <th>original</th>\n      <th>scored_text</th>\n      <th>distance</th>\n      <th>score</th>\n    </tr>\n  </thead>\n  <tbody>\n    <tr>\n      <th>0</th>\n      <td>0</td>\n      <td>Вели́кое кня́жество Влади́мирское, до 1157года...</td>\n      <td>С середины XIII века сюзеренитет великих княз...</td>\n      <td>0.923924</td>\n      <td>5</td>\n    </tr>\n    <tr>\n      <th>1</th>\n      <td>1</td>\n      <td>Новгоро́дская респу́блика — севернорусское сре...</td>\n      <td>Находясь с 1245 года под сюзеренитетом велики...</td>\n      <td>0.908120</td>\n      <td>5</td>\n    </tr>\n    <tr>\n      <th>2</th>\n      <td>2</td>\n      <td>Вели́кое кня́жество Лито́вское— восточноевропе...</td>\n      <td>С 1385 года находилось в личной унии с Королев...</td>\n      <td>0.861883</td>\n      <td>5</td>\n    </tr>\n    <tr>\n      <th>3</th>\n      <td>3</td>\n      <td>Вели́кое кня́жество Моско́вское— средневековое...</td>\n      <td>Возвышению Москвы и укреплению её авторитета ...</td>\n      <td>0.901416</td>\n      <td>5</td>\n    </tr>\n    <tr>\n      <th>4</th>\n      <td>4</td>\n      <td>Оле́г — князь Новгородский с 879 года и велики...</td>\n      <td>Получив власть над новгородскими землями посл...</td>\n      <td>0.916509</td>\n      <td>5</td>\n    </tr>\n  </tbody>\n</table>\n</div>"
     },
     "execution_count": 15,
     "metadata": {},
     "output_type": "execute_result"
    }
   ],
   "source": [
    "import pandas as pd\n",
    "origin_result_data = pd.read_csv(\"../spacy/data/result.csv\")\n",
    "origin_result_data.head()"
   ],
   "metadata": {
    "collapsed": false,
    "pycharm": {
     "name": "#%%\n"
    }
   }
  },
  {
   "cell_type": "code",
   "execution_count": 16,
   "outputs": [],
   "source": [
    "def preprocess_for_labeling(data):\n",
    "    after_preprocess = data[\"original\"].transform(preprocess)\n",
    "\n",
    "    after_preprocess = after_preprocess.dropna()\n",
    "    after_preprocess = after_preprocess.drop_duplicates()\n",
    "\n",
    "    with open('/home/droman/Documents/diploma/spacy/data/data_for_labeling_with_preprocess.txt', mode='wt', encoding='utf-8') as myfile:\n",
    "        myfile.write('\\n'.join(set(after_preprocess.tolist())))\n",
    "\n",
    "\n",
    "def preprocess_for_classification(data):\n",
    "    for title in [\"original\", \"scored_text\"]:\n",
    "        after_preprocess = data[title].transform(preprocess)\n",
    "\n",
    "        after_preprocess = after_preprocess.dropna()\n",
    "        after_preprocess = after_preprocess.drop_duplicates()\n",
    "\n",
    "        data[title] = after_preprocess\n",
    "\n",
    "    data.to_csv('/home/droman/Documents/diploma/deeppavlov_ner_3.6/data/data_with_preprocess.csv')"
   ],
   "metadata": {
    "collapsed": false,
    "pycharm": {
     "name": "#%%\n"
    }
   }
  },
  {
   "cell_type": "code",
   "execution_count": 17,
   "outputs": [],
   "source": [
    "preprocess_for_classification(origin_result_data)\n"
   ],
   "metadata": {
    "collapsed": false,
    "pycharm": {
     "name": "#%%\n"
    }
   }
  },
  {
   "cell_type": "code",
   "execution_count": 18,
   "outputs": [
    {
     "data": {
      "text/plain": "   Unnamed: 0  Unnamed: 0.1  \\\n0           0             0   \n1           1             1   \n2           2             2   \n3           3             3   \n4           4             4   \n\n                                            original  \\\n0  великий княжество владимирский 1157год  —  суз...   \n1  новгородский республика  —  севернорусский сре...   \n2  великий княжество литовский —  восточноевропей...   \n3  великий княжество московский —  средневековый ...   \n4  олег  —  князь новгородский 879 год великий кн...   \n\n                                         scored_text  distance  score  \n0  середина xiii век сюзеренитет великий князь вл...  0.923924      5  \n1  находиться 1245 год сюзеренитет великий князь ...  0.908120      5  \n2  1385 год находиться личный уния королевство по...  0.861883      5  \n3  возвышение москва укрепление авторитет русь сп...  0.901416      5  \n4  получать власть новгородский земля смерть рюри...  0.916509      5  ",
      "text/html": "<div>\n<style scoped>\n    .dataframe tbody tr th:only-of-type {\n        vertical-align: middle;\n    }\n\n    .dataframe tbody tr th {\n        vertical-align: top;\n    }\n\n    .dataframe thead th {\n        text-align: right;\n    }\n</style>\n<table border=\"1\" class=\"dataframe\">\n  <thead>\n    <tr style=\"text-align: right;\">\n      <th></th>\n      <th>Unnamed: 0</th>\n      <th>Unnamed: 0.1</th>\n      <th>original</th>\n      <th>scored_text</th>\n      <th>distance</th>\n      <th>score</th>\n    </tr>\n  </thead>\n  <tbody>\n    <tr>\n      <th>0</th>\n      <td>0</td>\n      <td>0</td>\n      <td>великий княжество владимирский 1157год  —  суз...</td>\n      <td>середина xiii век сюзеренитет великий князь вл...</td>\n      <td>0.923924</td>\n      <td>5</td>\n    </tr>\n    <tr>\n      <th>1</th>\n      <td>1</td>\n      <td>1</td>\n      <td>новгородский республика  —  севернорусский сре...</td>\n      <td>находиться 1245 год сюзеренитет великий князь ...</td>\n      <td>0.908120</td>\n      <td>5</td>\n    </tr>\n    <tr>\n      <th>2</th>\n      <td>2</td>\n      <td>2</td>\n      <td>великий княжество литовский —  восточноевропей...</td>\n      <td>1385 год находиться личный уния королевство по...</td>\n      <td>0.861883</td>\n      <td>5</td>\n    </tr>\n    <tr>\n      <th>3</th>\n      <td>3</td>\n      <td>3</td>\n      <td>великий княжество московский —  средневековый ...</td>\n      <td>возвышение москва укрепление авторитет русь сп...</td>\n      <td>0.901416</td>\n      <td>5</td>\n    </tr>\n    <tr>\n      <th>4</th>\n      <td>4</td>\n      <td>4</td>\n      <td>олег  —  князь новгородский 879 год великий кн...</td>\n      <td>получать власть новгородский земля смерть рюри...</td>\n      <td>0.916509</td>\n      <td>5</td>\n    </tr>\n  </tbody>\n</table>\n</div>"
     },
     "execution_count": 18,
     "metadata": {},
     "output_type": "execute_result"
    }
   ],
   "source": [
    "pd.read_csv(\"./data/data_with_preprocess.csv\").head()"
   ],
   "metadata": {
    "collapsed": false,
    "pycharm": {
     "name": "#%%\n"
    }
   }
  },
  {
   "cell_type": "code",
   "execution_count": null,
   "outputs": [],
   "source": [],
   "metadata": {
    "collapsed": false,
    "pycharm": {
     "name": "#%%\n"
    }
   }
  }
 ],
 "metadata": {
  "kernelspec": {
   "display_name": "Python 3",
   "language": "python",
   "name": "python3"
  },
  "language_info": {
   "codemirror_mode": {
    "name": "ipython",
    "version": 2
   },
   "file_extension": ".py",
   "mimetype": "text/x-python",
   "name": "python",
   "nbconvert_exporter": "python",
   "pygments_lexer": "ipython2",
   "version": "2.7.6"
  }
 },
 "nbformat": 4,
 "nbformat_minor": 0
}