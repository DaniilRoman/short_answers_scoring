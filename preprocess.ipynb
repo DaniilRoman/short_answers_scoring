{
 "cells": [
  {
   "cell_type": "code",
   "execution_count": 1,
   "outputs": [
    {
     "name": "stdout",
     "output_type": "stream",
     "text": [
      "/bin/bash: -c: line 0: syntax error near unexpected token `'stopwords''\r\n",
      "/bin/bash: -c: line 0: `nltk.download('stopwords')'\r\n"
     ]
    }
   ],
   "source": [
    "!nltk.download('stopwords')\n",
    "\n",
    "import re\n",
    "from nltk.corpus import stopwords\n",
    "from nltk.tokenize import sent_tokenize, word_tokenize\n",
    "from nltk.stem import SnowballStemmer\n",
    "import pymorphy2\n",
    "from pymystem3 import Mystem\n",
    "from string import punctuation\n",
    "import pandas as pd\n",
    "\n",
    "stop_words = stopwords.words('russian')\n",
    "stop_words.remove(\"не\")\n",
    "stop_words.remove(\"ни\")\n",
    "mystem = Mystem()\n",
    "stemmer = SnowballStemmer(language='russian')\n",
    "morph = pymorphy2.MorphAnalyzer()"
   ],
   "metadata": {
    "collapsed": false,
    "pycharm": {
     "name": "#%%\n"
    }
   }
  },
  {
   "cell_type": "code",
   "execution_count": 21,
   "outputs": [],
   "source": [
    "def preprocess(text, is_stem = False, is_morph = False, is_remove_stop_words = False):\n",
    "    if text is None:\n",
    "        text = \"\"\n",
    "    text = text.lower()\n",
    "    text = re.sub(r'\\[.*?\\]|\\(.*?\\)|\\n|,|\\.|\\xa0|;', \"\", text).replace(chr(769), \"\")\n",
    "    # tokens = word_tokenize(text, language='russian')\n",
    "    if not is_remove_stop_words:\n",
    "        return text\n",
    "    tokens = mystem.lemmatize(text)\n",
    "    if is_remove_stop_words:\n",
    "        tokens = [token for token in tokens if token not in stop_words\\\n",
    "            and token != \" \" and token != '' \\\n",
    "            and token.strip() not in punctuation]\n",
    "\n",
    "    if is_stem:\n",
    "        tokens = list(map(lambda x: stemmer.stem(x), tokens))\n",
    "    if is_morph:\n",
    "        tokens = list(map(lambda x: morph.parse(x)[0].normal_form, tokens))\n",
    "\n",
    "    return ' '.join(tokens)\n",
    "\n",
    "def preprocess_for_labeling(data):\n",
    "    after_preprocess = data[\"original\"].transform(preprocess)\n",
    "\n",
    "    after_preprocess = after_preprocess.dropna()\n",
    "    after_preprocess = after_preprocess.drop_duplicates()\n",
    "\n",
    "    with open('/home/droman/Documents/diploma/spacy/data/data_for_labeling_with_preprocess.txt', mode='wt', encoding='utf-8') as myfile:\n",
    "        myfile.write('\\n'.join(set(after_preprocess.tolist())))\n",
    "\n",
    "\n",
    "def preprocess_for_classification(data, output = '/home/droman/Documents/diploma/deeppavlov_ner_3.6/data/data_with_preprocess.csv'):\n",
    "    for title in [\"original\", \"scored_text\"]:\n",
    "        after_preprocess = data[title].transform(preprocess)\n",
    "        data[title] = after_preprocess\n",
    "\n",
    "    data.dropna(how='any', inplace=True)\n",
    "    data.drop_duplicates()\n",
    "\n",
    "    data.to_csv(output, index=False)"
   ],
   "metadata": {
    "collapsed": false,
    "pycharm": {
     "name": "#%%\n"
    }
   }
  },
  {
   "cell_type": "code",
   "execution_count": 23,
   "outputs": [],
   "source": [
    "origin_result_data = pd.read_csv(\"/home/droman/Documents/diploma/deeppavlov_ner_3.6/data/input/result.csv\")\n",
    "\n",
    "preprocess_for_classification(origin_result_data, '/home/droman/Documents/diploma/deeppavlov_ner_3.6/data/input/data_with_semi_preproc_with_stopwords.csv')\n",
    "\n"
   ],
   "metadata": {
    "collapsed": false,
    "pycharm": {
     "name": "#%%\n"
    }
   }
  }
 ],
 "metadata": {
  "kernelspec": {
   "display_name": "Python 3",
   "language": "python",
   "name": "python3"
  },
  "language_info": {
   "codemirror_mode": {
    "name": "ipython",
    "version": 2
   },
   "file_extension": ".py",
   "mimetype": "text/x-python",
   "name": "python",
   "nbconvert_exporter": "python",
   "pygments_lexer": "ipython2",
   "version": "2.7.6"
  }
 },
 "nbformat": 4,
 "nbformat_minor": 0
}