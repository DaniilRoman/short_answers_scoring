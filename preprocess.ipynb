{
 "cells": [
  {
   "cell_type": "code",
   "execution_count": 1,
   "outputs": [
    {
     "name": "stdout",
     "output_type": "stream",
     "text": [
      "/bin/bash: -c: line 0: syntax error near unexpected token `'stopwords''\r\n",
      "/bin/bash: -c: line 0: `nltk.download('stopwords')'\r\n"
     ]
    }
   ],
   "source": [
    "!nltk.download('stopwords')\n",
    "\n",
    "import re\n",
    "from nltk.corpus import stopwords\n",
    "from nltk.tokenize import sent_tokenize, word_tokenize\n",
    "from nltk.stem import SnowballStemmer\n",
    "import pymorphy2\n",
    "from pymystem3 import Mystem\n",
    "from string import punctuation\n",
    "\n",
    "stop_words = stopwords.words('russian')\n",
    "stop_words.remove(\"не\")\n",
    "stop_words.remove(\"ни\")\n",
    "mystem = Mystem()\n",
    "stemmer = SnowballStemmer(language='russian')\n",
    "morph = pymorphy2.MorphAnalyzer()"
   ],
   "metadata": {
    "collapsed": false,
    "pycharm": {
     "name": "#%%\n"
    }
   }
  },
  {
   "cell_type": "code",
   "execution_count": 2,
   "outputs": [
    {
     "data": {
      "text/plain": "'екатерина i   —  российский императрица 1721 год'"
     },
     "execution_count": 2,
     "metadata": {},
     "output_type": "execute_result"
    }
   ],
   "source": [
    "\n",
    "def preprocess(text, is_stem = False, is_morph = True, is_remove_stop_words = True):\n",
    "    if text is None:\n",
    "        text = \"\"\n",
    "    text = text.lower()\n",
    "    text = re.sub(r'\\[.*?\\]|\\(.*?\\)|\\n|,|\\.|\\xa0|;', \"\", text).replace(chr(769), \"\")\n",
    "    # tokens = word_tokenize(text, language='russian')\n",
    "    tokens = mystem.lemmatize(text)\n",
    "    if is_remove_stop_words:\n",
    "        tokens = [token for token in tokens if token not in stop_words\\\n",
    "            and token != \" \" and token != '' \\\n",
    "            and token.strip() not in punctuation]\n",
    "\n",
    "    if is_stem:\n",
    "        tokens = list(map(lambda x: stemmer.stem(x), tokens))\n",
    "    if is_morph:\n",
    "        tokens = list(map(lambda x: morph.parse(x)[0].normal_form, tokens))\n",
    "\n",
    "    return ' '.join(tokens)"
   ],
   "metadata": {
    "collapsed": false,
    "pycharm": {
     "name": "#%%\n"
    }
   }
  },
  {
   "cell_type": "code",
   "execution_count": null,
   "outputs": [],
   "source": [
    "# text = \"Екатери́на I (Ма́рта Самуи́ловна Скавро́нская, в браке Крузе; после принятия православия Екатери́на Алексе́евна Миха́йлова; 5 [15] апреля 1684 — 6 [17] мая 1727, Санкт-Петербург) — российская императрица с 1721 года (как супруга царствующего императора)\"\n",
    "# preprocess(text)\n",
    "\n",
    "# PREPROCESS FOR LABELING"
   ],
   "metadata": {
    "collapsed": false,
    "pycharm": {
     "name": "#%%\n"
    }
   }
  },
  {
   "cell_type": "code",
   "execution_count": 30,
   "outputs": [
    {
     "data": {
      "text/plain": "   Unnamed: 0                                           original  \\\n0           0  Вели́кое кня́жество Влади́мирское, до 1157года...   \n1           1  Новгоро́дская респу́блика — севернорусское сре...   \n2           2  Вели́кое кня́жество Лито́вское— восточноевропе...   \n3           3  Вели́кое кня́жество Моско́вское— средневековое...   \n4           4  Оле́г — князь Новгородский с 879 года и велики...   \n\n                                         scored_text  distance  score  \n0   С середины XIII века сюзеренитет великих княз...  0.923924      5  \n1   Находясь с 1245 года под сюзеренитетом велики...  0.908120      5  \n2  С 1385 года находилось в личной унии с Королев...  0.861883      5  \n3   Возвышению Москвы и укреплению её авторитета ...  0.901416      5  \n4   Получив власть над новгородскими землями посл...  0.916509      5  ",
      "text/html": "<div>\n<style scoped>\n    .dataframe tbody tr th:only-of-type {\n        vertical-align: middle;\n    }\n\n    .dataframe tbody tr th {\n        vertical-align: top;\n    }\n\n    .dataframe thead th {\n        text-align: right;\n    }\n</style>\n<table border=\"1\" class=\"dataframe\">\n  <thead>\n    <tr style=\"text-align: right;\">\n      <th></th>\n      <th>Unnamed: 0</th>\n      <th>original</th>\n      <th>scored_text</th>\n      <th>distance</th>\n      <th>score</th>\n    </tr>\n  </thead>\n  <tbody>\n    <tr>\n      <th>0</th>\n      <td>0</td>\n      <td>Вели́кое кня́жество Влади́мирское, до 1157года...</td>\n      <td>С середины XIII века сюзеренитет великих княз...</td>\n      <td>0.923924</td>\n      <td>5</td>\n    </tr>\n    <tr>\n      <th>1</th>\n      <td>1</td>\n      <td>Новгоро́дская респу́блика — севернорусское сре...</td>\n      <td>Находясь с 1245 года под сюзеренитетом велики...</td>\n      <td>0.908120</td>\n      <td>5</td>\n    </tr>\n    <tr>\n      <th>2</th>\n      <td>2</td>\n      <td>Вели́кое кня́жество Лито́вское— восточноевропе...</td>\n      <td>С 1385 года находилось в личной унии с Королев...</td>\n      <td>0.861883</td>\n      <td>5</td>\n    </tr>\n    <tr>\n      <th>3</th>\n      <td>3</td>\n      <td>Вели́кое кня́жество Моско́вское— средневековое...</td>\n      <td>Возвышению Москвы и укреплению её авторитета ...</td>\n      <td>0.901416</td>\n      <td>5</td>\n    </tr>\n    <tr>\n      <th>4</th>\n      <td>4</td>\n      <td>Оле́г — князь Новгородский с 879 года и велики...</td>\n      <td>Получив власть над новгородскими землями посл...</td>\n      <td>0.916509</td>\n      <td>5</td>\n    </tr>\n  </tbody>\n</table>\n</div>"
     },
     "execution_count": 30,
     "metadata": {},
     "output_type": "execute_result"
    }
   ],
   "source": [
    "import pandas as pd\n",
    "origin_result_data = pd.read_csv(\"../spacy/data/result.csv\")\n",
    "origin_result_data.head()"
   ],
   "metadata": {
    "collapsed": false,
    "pycharm": {
     "name": "#%%\n"
    }
   }
  },
  {
   "cell_type": "code",
   "execution_count": 75,
   "outputs": [],
   "source": [
    "def preprocess_for_labeling(data):\n",
    "    after_preprocess = data[\"original\"].transform(preprocess)\n",
    "\n",
    "    after_preprocess = after_preprocess.dropna()\n",
    "    after_preprocess = after_preprocess.drop_duplicates()\n",
    "\n",
    "    with open('/home/droman/Documents/diploma/spacy/data/data_for_labeling_with_preprocess.txt', mode='wt', encoding='utf-8') as myfile:\n",
    "        myfile.write('\\n'.join(set(after_preprocess.tolist())))\n",
    "\n",
    "\n",
    "def preprocess_for_classification(data):\n",
    "    for title in [\"original\", \"scored_text\"]:\n",
    "        after_preprocess = data[title].transform(preprocess)\n",
    "        data[title] = after_preprocess\n",
    "\n",
    "    data.dropna(how='any', inplace=True)\n",
    "    data.drop_duplicates()\n",
    "\n",
    "    data.to_csv('/home/droman/Documents/diploma/deeppavlov_ner_3.6/data/data_with_preprocess.csv', index=False)"
   ],
   "metadata": {
    "collapsed": false,
    "pycharm": {
     "name": "#%%\n"
    }
   }
  },
  {
   "cell_type": "code",
   "execution_count": 76,
   "outputs": [],
   "source": [
    "preprocess_for_classification(origin_result_data)\n"
   ],
   "metadata": {
    "collapsed": false,
    "pycharm": {
     "name": "#%%\n"
    }
   }
  },
  {
   "cell_type": "code",
   "execution_count": 83,
   "outputs": [],
   "source": [
    "result = pd.read_csv(\"./data/data_with_preprocess.csv\")"
   ],
   "metadata": {
    "collapsed": false,
    "pycharm": {
     "name": "#%%\n"
    }
   }
  },
  {
   "cell_type": "code",
   "execution_count": 84,
   "outputs": [
    {
     "data": {
      "text/plain": "Unnamed: 0                                                   113\noriginal       святослав ярослав крещение николай год     : «...\nscored_text                   1054 год ярослав поделить русь сын\ndistance                                                0.948365\nscore                                                          3\nName: 112, dtype: object"
     },
     "execution_count": 84,
     "metadata": {},
     "output_type": "execute_result"
    }
   ],
   "source": [
    "result.loc[112]"
   ],
   "metadata": {
    "collapsed": false,
    "pycharm": {
     "name": "#%%\n"
    }
   }
  },
  {
   "cell_type": "code",
   "execution_count": 86,
   "outputs": [
    {
     "name": "stdout",
     "output_type": "stream",
     "text": [
      "161\n"
     ]
    }
   ],
   "source": [
    "print(len(result))\n",
    "# result.dropna(how='any', inplace=True)\n",
    "# print(len(result))"
   ],
   "metadata": {
    "collapsed": false,
    "pycharm": {
     "name": "#%%\n"
    }
   }
  },
  {
   "cell_type": "code",
   "execution_count": 80,
   "outputs": [
    {
     "data": {
      "text/plain": "Unnamed: 0                                                   112\noriginal       олег      —      князь новгородский 879 год ве...\nscored_text                                                  NaN\ndistance                                                       0\nscore                                                          3\nName: 112, dtype: object"
     },
     "execution_count": 80,
     "metadata": {},
     "output_type": "execute_result"
    }
   ],
   "source": [
    "result.loc[112]"
   ],
   "metadata": {
    "collapsed": false,
    "pycharm": {
     "name": "#%%\n"
    }
   }
  },
  {
   "cell_type": "code",
   "execution_count": 52,
   "outputs": [
    {
     "name": "stdout",
     "output_type": "stream",
     "text": [
      " \n"
     ]
    },
    {
     "data": {
      "text/plain": "''"
     },
     "execution_count": 52,
     "metadata": {},
     "output_type": "execute_result"
    }
   ],
   "source": [
    "origin = pd.read_csv(\"../spacy/data/result.csv\")\n",
    "print(origin.loc[112][\"scored_text\"])\n",
    "preprocess(origin.loc[112][\"scored_text\"])"
   ],
   "metadata": {
    "collapsed": false,
    "pycharm": {
     "name": "#%%\n"
    }
   }
  },
  {
   "cell_type": "code",
   "execution_count": 49,
   "outputs": [
    {
     "name": "stdout",
     "output_type": "stream",
     "text": [
      "162\n"
     ]
    }
   ],
   "source": [
    "print(len(result))"
   ],
   "metadata": {
    "collapsed": false,
    "pycharm": {
     "name": "#%%\n"
    }
   }
  },
  {
   "cell_type": "code",
   "execution_count": null,
   "outputs": [],
   "source": [],
   "metadata": {
    "collapsed": false,
    "pycharm": {
     "name": "#%%\n"
    }
   }
  }
 ],
 "metadata": {
  "kernelspec": {
   "display_name": "Python 3",
   "language": "python",
   "name": "python3"
  },
  "language_info": {
   "codemirror_mode": {
    "name": "ipython",
    "version": 2
   },
   "file_extension": ".py",
   "mimetype": "text/x-python",
   "name": "python",
   "nbconvert_exporter": "python",
   "pygments_lexer": "ipython2",
   "version": "2.7.6"
  }
 },
 "nbformat": 4,
 "nbformat_minor": 0
}