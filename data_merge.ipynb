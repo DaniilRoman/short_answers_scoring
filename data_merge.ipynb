{
 "cells": [
  {
   "cell_type": "code",
   "execution_count": 26,
   "outputs": [],
   "source": [
    "import pandas as pd\n",
    "from tqdm import tqdm"
   ],
   "metadata": {
    "collapsed": false,
    "pycharm": {
     "name": "#%%\n"
    }
   }
  },
  {
   "cell_type": "code",
   "execution_count": 33,
   "metadata": {
    "collapsed": true
   },
   "outputs": [],
   "source": [
    "def normalize(data):\n",
    "    # 112 is index with NaN value which should be removed from all dataframes\n",
    "    return data[data['Unnamed: 0'] != 112]\n",
    "\n",
    "def merge():\n",
    "    DISTANCE_FILE = 0\n",
    "    NER_FILE = 1\n",
    "    OUTPUT_FILE = 2\n",
    "    custom_ner_filepath = \"/home/droman/Documents/diploma/deeppavlov_ner_3.6/data/output/ner/ner_custom_overlap.csv\"\n",
    "    filepath_pairs_to_merge = [\n",
    "        [\"/home/droman/Documents/diploma/deeppavlov_ner_3.6/data/output/distance/data_with_distance.csv\",\n",
    "         \"/home/droman/Documents/diploma/deeppavlov_ner_3.6/data/output/ner/ner_overlap_origin.csv\",\n",
    "         \"/home/droman/Documents/diploma/deeppavlov_ner_3.6/data/output/merged/data_origin.csv\"],\n",
    "        [\"/home/droman/Documents/diploma/deeppavlov_ner_3.6/data/output/distance/preprocess_data_with_distance.csv\",\n",
    "         \"/home/droman/Documents/diploma/deeppavlov_ner_3.6/data/output/ner/ner_overlap_with_preprocess.csv\",\n",
    "         \"/home/droman/Documents/diploma/deeppavlov_ner_3.6/data/output/merged/data_preprocess.csv\"],\n",
    "        [\"/home/droman/Documents/diploma/deeppavlov_ner_3.6/data/output/distance/semi_preproc_with_stopwords_data_with_distance.csv\",\n",
    "         \"/home/droman/Documents/diploma/deeppavlov_ner_3.6/data/output/ner/ner_overlap_with_semi_process_and_stopwords.csv\",\n",
    "         \"/home/droman/Documents/diploma/deeppavlov_ner_3.6/data/output/merged/data_semi_preprocc_with_stopwords.csv\"],\n",
    "        [\"/home/droman/Documents/diploma/deeppavlov_ner_3.6/data/output/distance/semi_preproc_without_stopwords_data_with_distance.csv\",\n",
    "         \"/home/droman/Documents/diploma/deeppavlov_ner_3.6/data/output/ner/ner_overlap_with_semi_process.csv\",\n",
    "         \"/home/droman/Documents/diploma/deeppavlov_ner_3.6/data/output/merged/data_semi_preprocess_without_stopwords.csv\"]\n",
    "    ]\n",
    "    custom_ner_data = pd.read_csv(custom_ner_filepath)\n",
    "    for files in tqdm(filepath_pairs_to_merge):\n",
    "        distance_data = pd.read_csv(files[DISTANCE_FILE])\n",
    "        ner_data = pd.read_csv(files[NER_FILE])\n",
    "\n",
    "        distance_data[\"ner_custom_overlap\"] = custom_ner_data[\"ner_custom_overlap\"]\n",
    "        distance_data[\"ner_overlap\"] = ner_data[\"ner_overlap\"]\n",
    "        distance_data.to_csv(files[OUTPUT_FILE], index=False)"
   ]
  },
  {
   "cell_type": "code",
   "execution_count": 34,
   "outputs": [
    {
     "name": "stderr",
     "output_type": "stream",
     "text": [
      "100%|██████████| 4/4 [00:00<00:00, 63.64it/s]\n"
     ]
    }
   ],
   "source": [
    "merge()\n"
   ],
   "metadata": {
    "collapsed": false,
    "pycharm": {
     "name": "#%%\n"
    }
   }
  },
  {
   "cell_type": "code",
   "execution_count": null,
   "outputs": [],
   "source": [],
   "metadata": {
    "collapsed": false,
    "pycharm": {
     "name": "#%%\n"
    }
   }
  }
 ],
 "metadata": {
  "kernelspec": {
   "display_name": "Python 3",
   "language": "python",
   "name": "python3"
  },
  "language_info": {
   "codemirror_mode": {
    "name": "ipython",
    "version": 2
   },
   "file_extension": ".py",
   "mimetype": "text/x-python",
   "name": "python",
   "nbconvert_exporter": "python",
   "pygments_lexer": "ipython2",
   "version": "2.7.6"
  }
 },
 "nbformat": 4,
 "nbformat_minor": 0
}