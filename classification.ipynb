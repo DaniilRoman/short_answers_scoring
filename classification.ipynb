{
 "cells": [
  {
   "cell_type": "code",
   "execution_count": 8,
   "metadata": {
    "collapsed": true
   },
   "outputs": [],
   "source": [
    "import pandas as pd\n",
    "import numpy as np\n",
    "from sklearn.model_selection import train_test_split\n",
    "from sklearn.neighbors import KNeighborsClassifier\n",
    "import tqdm\n",
    "\n",
    "import re\n",
    "import json"
   ]
  },
  {
   "cell_type": "code",
   "execution_count": 27,
   "outputs": [],
   "source": [
    "def get_filename(filepath):\n",
    "    m = re.search(r'/([a-z_]*)\\.csv', filepath)\n",
    "    return m.group(1)\n",
    "\n",
    "def get_classifier_score(file_path = \"../deeppavlov_ner_3.6/data/ner_overlap_result.csv\",\n",
    "                         model = lambda: KNeighborsClassifier(3),\n",
    "                         x_columns = [\"tfidf_distance\", \"laser_distance\", \"use_distance\", \"fasttext_distance\", \"bert_distance\", \"ner_custom_overlap\", \"ner_overlap\"],\n",
    "                         y_column = \"score\"):\n",
    "    result_data =  pd.read_csv(file_path)\n",
    "    result_x_columns = []\n",
    "    result_scores = []\n",
    "\n",
    "    for i in tqdm.tqdm(range(len(x_columns))):\n",
    "        for j in range(i+1, len(x_columns)+1):\n",
    "\n",
    "            if i == j:\n",
    "                current_x_columns = [x_columns[i]]\n",
    "            else:\n",
    "                current_x_columns = x_columns[i:j]\n",
    "\n",
    "            x = np.asarray(result_data[current_x_columns]).reshape(-1, len(current_x_columns))\n",
    "            y = np.asarray(result_data[y_column]).reshape(-1, 1)\n",
    "\n",
    "            X_train, X_test, y_train, y_test = \\\n",
    "                    train_test_split(x, y, test_size=.7, random_state=42)\n",
    "\n",
    "            classifier = model()\n",
    "            classifier.fit(X_train, y_train)\n",
    "\n",
    "            result_scores.append(classifier.score(X_test, y_test))\n",
    "\n",
    "            result_x_columns.append(current_x_columns)\n",
    "\n",
    "    return result_x_columns, result_scores\n",
    "\n",
    "def train(file_path=\"./data/result.csv\", classifier = KNeighborsClassifier(3)):\n",
    "    result_data =  pd.read_csv(file_path)\n",
    "\n",
    "    x = np.asarray(result_data[\"distance\"].tolist()).reshape(-1, 1)\n",
    "    y = np.asarray(result_data[\"score\"].tolist()).reshape(-1, 1)\n",
    "\n",
    "    classifier.fit(x, y)\n",
    "    return classifier\n",
    "\n",
    "def run_for_all(output=\"/home/droman/Documents/diploma/deeppavlov_ner_3.6/data/output/classification/scores.json\"):\n",
    "    json_to_save = {\"items\": []}\n",
    "    for file in [\"/home/droman/Documents/diploma/deeppavlov_ner_3.6/data/output/normalized/data_origin.csv\",\n",
    "                 \"/home/droman/Documents/diploma/deeppavlov_ner_3.6/data/output/normalized/data_preprocess.csv\",\n",
    "                 \"/home/droman/Documents/diploma/deeppavlov_ner_3.6/data/output/normalized/data_semi_preprocc_with_stopwords.csv\",\n",
    "                 \"/home/droman/Documents/diploma/deeppavlov_ner_3.6/data/output/normalized/data_semi_preprocess_without_stopwords.csv\"]:\n",
    "        result_x_columns, result_scores = get_classifier_score(file_path=file)\n",
    "        stored_structure = {\"file\": \"\", \"x_columns\": [], \"scores\": []}\n",
    "        stored_structure.file = file\n",
    "        stored_structure.x_columns = result_x_columns\n",
    "        stored_structure.scores = result_scores\n",
    "        json_to_save.items.append(stored_structure)\n",
    "    with open(output, 'w') as outfile:\n",
    "        json.dump(json_to_save, outfile)\n"
   ],
   "metadata": {
    "collapsed": false,
    "pycharm": {
     "name": "#%%\n"
    }
   }
  },
  {
   "cell_type": "code",
   "execution_count": 28,
   "outputs": [
    {
     "name": "stderr",
     "output_type": "stream",
     "text": [
      "  0%|          | 0/7 [00:00<?, ?it/s]/home/droman/Documents/diploma/deeppavlov_ner_3.6/venv/lib/python3.6/site-packages/ipykernel_launcher.py:28: DataConversionWarning: A column-vector y was passed when a 1d array was expected. Please change the shape of y to (n_samples, ), for example using ravel().\n",
      "/home/droman/Documents/diploma/deeppavlov_ner_3.6/venv/lib/python3.6/site-packages/ipykernel_launcher.py:28: DataConversionWarning: A column-vector y was passed when a 1d array was expected. Please change the shape of y to (n_samples, ), for example using ravel().\n",
      "/home/droman/Documents/diploma/deeppavlov_ner_3.6/venv/lib/python3.6/site-packages/ipykernel_launcher.py:28: DataConversionWarning: A column-vector y was passed when a 1d array was expected. Please change the shape of y to (n_samples, ), for example using ravel().\n",
      "/home/droman/Documents/diploma/deeppavlov_ner_3.6/venv/lib/python3.6/site-packages/ipykernel_launcher.py:28: DataConversionWarning: A column-vector y was passed when a 1d array was expected. Please change the shape of y to (n_samples, ), for example using ravel().\n",
      "/home/droman/Documents/diploma/deeppavlov_ner_3.6/venv/lib/python3.6/site-packages/ipykernel_launcher.py:28: DataConversionWarning: A column-vector y was passed when a 1d array was expected. Please change the shape of y to (n_samples, ), for example using ravel().\n",
      "/home/droman/Documents/diploma/deeppavlov_ner_3.6/venv/lib/python3.6/site-packages/ipykernel_launcher.py:28: DataConversionWarning: A column-vector y was passed when a 1d array was expected. Please change the shape of y to (n_samples, ), for example using ravel().\n",
      "/home/droman/Documents/diploma/deeppavlov_ner_3.6/venv/lib/python3.6/site-packages/ipykernel_launcher.py:28: DataConversionWarning: A column-vector y was passed when a 1d array was expected. Please change the shape of y to (n_samples, ), for example using ravel().\n",
      "/home/droman/Documents/diploma/deeppavlov_ner_3.6/venv/lib/python3.6/site-packages/ipykernel_launcher.py:28: DataConversionWarning: A column-vector y was passed when a 1d array was expected. Please change the shape of y to (n_samples, ), for example using ravel().\n",
      "/home/droman/Documents/diploma/deeppavlov_ner_3.6/venv/lib/python3.6/site-packages/ipykernel_launcher.py:28: DataConversionWarning: A column-vector y was passed when a 1d array was expected. Please change the shape of y to (n_samples, ), for example using ravel().\n",
      "/home/droman/Documents/diploma/deeppavlov_ner_3.6/venv/lib/python3.6/site-packages/ipykernel_launcher.py:28: DataConversionWarning: A column-vector y was passed when a 1d array was expected. Please change the shape of y to (n_samples, ), for example using ravel().\n",
      "/home/droman/Documents/diploma/deeppavlov_ner_3.6/venv/lib/python3.6/site-packages/ipykernel_launcher.py:28: DataConversionWarning: A column-vector y was passed when a 1d array was expected. Please change the shape of y to (n_samples, ), for example using ravel().\n",
      "/home/droman/Documents/diploma/deeppavlov_ner_3.6/venv/lib/python3.6/site-packages/ipykernel_launcher.py:28: DataConversionWarning: A column-vector y was passed when a 1d array was expected. Please change the shape of y to (n_samples, ), for example using ravel().\n",
      "/home/droman/Documents/diploma/deeppavlov_ner_3.6/venv/lib/python3.6/site-packages/ipykernel_launcher.py:28: DataConversionWarning: A column-vector y was passed when a 1d array was expected. Please change the shape of y to (n_samples, ), for example using ravel().\n",
      "/home/droman/Documents/diploma/deeppavlov_ner_3.6/venv/lib/python3.6/site-packages/ipykernel_launcher.py:28: DataConversionWarning: A column-vector y was passed when a 1d array was expected. Please change the shape of y to (n_samples, ), for example using ravel().\n",
      "/home/droman/Documents/diploma/deeppavlov_ner_3.6/venv/lib/python3.6/site-packages/ipykernel_launcher.py:28: DataConversionWarning: A column-vector y was passed when a 1d array was expected. Please change the shape of y to (n_samples, ), for example using ravel().\n",
      "/home/droman/Documents/diploma/deeppavlov_ner_3.6/venv/lib/python3.6/site-packages/ipykernel_launcher.py:28: DataConversionWarning: A column-vector y was passed when a 1d array was expected. Please change the shape of y to (n_samples, ), for example using ravel().\n",
      "/home/droman/Documents/diploma/deeppavlov_ner_3.6/venv/lib/python3.6/site-packages/ipykernel_launcher.py:28: DataConversionWarning: A column-vector y was passed when a 1d array was expected. Please change the shape of y to (n_samples, ), for example using ravel().\n",
      "/home/droman/Documents/diploma/deeppavlov_ner_3.6/venv/lib/python3.6/site-packages/ipykernel_launcher.py:28: DataConversionWarning: A column-vector y was passed when a 1d array was expected. Please change the shape of y to (n_samples, ), for example using ravel().\n",
      " 43%|████▎     | 3/7 [00:00<00:00, 26.70it/s]/home/droman/Documents/diploma/deeppavlov_ner_3.6/venv/lib/python3.6/site-packages/ipykernel_launcher.py:28: DataConversionWarning: A column-vector y was passed when a 1d array was expected. Please change the shape of y to (n_samples, ), for example using ravel().\n",
      "/home/droman/Documents/diploma/deeppavlov_ner_3.6/venv/lib/python3.6/site-packages/ipykernel_launcher.py:28: DataConversionWarning: A column-vector y was passed when a 1d array was expected. Please change the shape of y to (n_samples, ), for example using ravel().\n",
      "/home/droman/Documents/diploma/deeppavlov_ner_3.6/venv/lib/python3.6/site-packages/ipykernel_launcher.py:28: DataConversionWarning: A column-vector y was passed when a 1d array was expected. Please change the shape of y to (n_samples, ), for example using ravel().\n",
      "/home/droman/Documents/diploma/deeppavlov_ner_3.6/venv/lib/python3.6/site-packages/ipykernel_launcher.py:28: DataConversionWarning: A column-vector y was passed when a 1d array was expected. Please change the shape of y to (n_samples, ), for example using ravel().\n",
      "/home/droman/Documents/diploma/deeppavlov_ner_3.6/venv/lib/python3.6/site-packages/ipykernel_launcher.py:28: DataConversionWarning: A column-vector y was passed when a 1d array was expected. Please change the shape of y to (n_samples, ), for example using ravel().\n",
      "/home/droman/Documents/diploma/deeppavlov_ner_3.6/venv/lib/python3.6/site-packages/ipykernel_launcher.py:28: DataConversionWarning: A column-vector y was passed when a 1d array was expected. Please change the shape of y to (n_samples, ), for example using ravel().\n",
      "/home/droman/Documents/diploma/deeppavlov_ner_3.6/venv/lib/python3.6/site-packages/ipykernel_launcher.py:28: DataConversionWarning: A column-vector y was passed when a 1d array was expected. Please change the shape of y to (n_samples, ), for example using ravel().\n",
      "/home/droman/Documents/diploma/deeppavlov_ner_3.6/venv/lib/python3.6/site-packages/ipykernel_launcher.py:28: DataConversionWarning: A column-vector y was passed when a 1d array was expected. Please change the shape of y to (n_samples, ), for example using ravel().\n",
      "/home/droman/Documents/diploma/deeppavlov_ner_3.6/venv/lib/python3.6/site-packages/ipykernel_launcher.py:28: DataConversionWarning: A column-vector y was passed when a 1d array was expected. Please change the shape of y to (n_samples, ), for example using ravel().\n",
      "/home/droman/Documents/diploma/deeppavlov_ner_3.6/venv/lib/python3.6/site-packages/ipykernel_launcher.py:28: DataConversionWarning: A column-vector y was passed when a 1d array was expected. Please change the shape of y to (n_samples, ), for example using ravel().\n",
      "100%|██████████| 7/7 [00:00<00:00, 43.90it/s]\n"
     ]
    },
    {
     "ename": "AttributeError",
     "evalue": "'dict' object has no attribute 'file'",
     "output_type": "error",
     "traceback": [
      "\u001B[0;31m---------------------------------------------------------------------------\u001B[0m",
      "\u001B[0;31mAttributeError\u001B[0m                            Traceback (most recent call last)",
      "\u001B[0;32m<ipython-input-28-46e5dfb4b108>\u001B[0m in \u001B[0;36m<module>\u001B[0;34m\u001B[0m\n\u001B[1;32m      1\u001B[0m \u001B[0moutput_dir\u001B[0m\u001B[0;34m=\u001B[0m\u001B[0;34m\"/home/droman/Documents/diploma/deeppavlov_ner_3.6/data/output/classification/scores.json\"\u001B[0m\u001B[0;34m\u001B[0m\u001B[0m\n\u001B[0;32m----> 2\u001B[0;31m \u001B[0mrun_for_all\u001B[0m\u001B[0;34m(\u001B[0m\u001B[0moutput\u001B[0m\u001B[0;34m=\u001B[0m\u001B[0moutput_dir\u001B[0m\u001B[0;34m)\u001B[0m\u001B[0;34m\u001B[0m\u001B[0m\n\u001B[0m\u001B[1;32m      3\u001B[0m \u001B[0;34m\u001B[0m\u001B[0m\n",
      "\u001B[0;32m<ipython-input-27-fb708a2abe57>\u001B[0m in \u001B[0;36mrun_for_all\u001B[0;34m(output)\u001B[0m\n\u001B[1;32m     51\u001B[0m         \u001B[0mresult_x_columns\u001B[0m\u001B[0;34m,\u001B[0m \u001B[0mresult_scores\u001B[0m \u001B[0;34m=\u001B[0m \u001B[0mget_classifier_score\u001B[0m\u001B[0;34m(\u001B[0m\u001B[0mfile_path\u001B[0m\u001B[0;34m=\u001B[0m\u001B[0mfile\u001B[0m\u001B[0;34m)\u001B[0m\u001B[0;34m\u001B[0m\u001B[0m\n\u001B[1;32m     52\u001B[0m         \u001B[0mstored_structure\u001B[0m \u001B[0;34m=\u001B[0m \u001B[0;34m{\u001B[0m\u001B[0;34m\"file\"\u001B[0m\u001B[0;34m:\u001B[0m \u001B[0;34m\"\"\u001B[0m\u001B[0;34m,\u001B[0m \u001B[0;34m\"x_columns\"\u001B[0m\u001B[0;34m:\u001B[0m \u001B[0;34m[\u001B[0m\u001B[0;34m]\u001B[0m\u001B[0;34m,\u001B[0m \u001B[0;34m\"scores\"\u001B[0m\u001B[0;34m:\u001B[0m \u001B[0;34m[\u001B[0m\u001B[0;34m]\u001B[0m\u001B[0;34m}\u001B[0m\u001B[0;34m\u001B[0m\u001B[0m\n\u001B[0;32m---> 53\u001B[0;31m         \u001B[0mstored_structure\u001B[0m\u001B[0;34m.\u001B[0m\u001B[0mfile\u001B[0m \u001B[0;34m=\u001B[0m \u001B[0mfile\u001B[0m\u001B[0;34m\u001B[0m\u001B[0m\n\u001B[0m\u001B[1;32m     54\u001B[0m         \u001B[0mstored_structure\u001B[0m\u001B[0;34m.\u001B[0m\u001B[0mx_columns\u001B[0m \u001B[0;34m=\u001B[0m \u001B[0mresult_x_columns\u001B[0m\u001B[0;34m\u001B[0m\u001B[0m\n\u001B[1;32m     55\u001B[0m         \u001B[0mstored_structure\u001B[0m\u001B[0;34m.\u001B[0m\u001B[0mscores\u001B[0m \u001B[0;34m=\u001B[0m \u001B[0mresult_scores\u001B[0m\u001B[0;34m\u001B[0m\u001B[0m\n",
      "\u001B[0;31mAttributeError\u001B[0m: 'dict' object has no attribute 'file'"
     ]
    }
   ],
   "source": [
    "output_dir=\"/home/droman/Documents/diploma/deeppavlov_ner_3.6/data/output/classification/scores.json\"\n",
    "run_for_all(output=output_dir)"
   ],
   "metadata": {
    "collapsed": false,
    "pycharm": {
     "name": "#%%\n"
    }
   }
  },
  {
   "cell_type": "code",
   "execution_count": 100,
   "outputs": [
    {
     "name": "stdout",
     "output_type": "stream",
     "text": [
      "0 :  ['distance']\n",
      "1 :  ['distance', 'ner_overlap']\n",
      "2 :  ['distance', 'ner_overlap', 'use_distance']\n",
      "3 :  ['distance', 'ner_overlap', 'use_distance', 'fasttext_distance']\n",
      "4 :  ['ner_overlap']\n",
      "5 :  ['ner_overlap', 'use_distance']\n",
      "6 :  ['ner_overlap', 'use_distance', 'fasttext_distance']\n",
      "7 :  ['use_distance']\n",
      "8 :  ['use_distance', 'fasttext_distance']\n",
      "9 :  ['fasttext_distance']\n"
     ]
    }
   ],
   "source": [
    "for i in range(len(scores_structure[0])):\n",
    "    print(i,\": \",scores_structure[0][i])\n"
   ],
   "metadata": {
    "collapsed": false,
    "pycharm": {
     "name": "#%%\n"
    }
   }
  },
  {
   "cell_type": "code",
   "execution_count": 7,
   "outputs": [
    {
     "name": "stdout",
     "output_type": "stream",
     "text": [
      "['tfidf_distance']\n",
      "=======================================\n",
      "['tfidf_distance', 'laser_distance']\n",
      "=======================================\n",
      "['tfidf_distance', 'laser_distance', 'use_distance']\n",
      "=======================================\n",
      "['tfidf_distance', 'laser_distance', 'use_distance', 'fasttext_distance']\n",
      "=======================================\n",
      "['tfidf_distance', 'laser_distance', 'use_distance', 'fasttext_distance', 'bert_distance']\n",
      "=======================================\n",
      "['tfidf_distance', 'laser_distance', 'use_distance', 'fasttext_distance', 'bert_distance', 'ner_custom_overlap']\n",
      "=======================================\n",
      "['tfidf_distance', 'laser_distance', 'use_distance', 'fasttext_distance', 'bert_distance', 'ner_custom_overlap', 'ner_overlap']\n",
      "=======================================\n",
      "['laser_distance']\n",
      "=======================================\n",
      "['laser_distance', 'use_distance']\n",
      "=======================================\n",
      "['laser_distance', 'use_distance', 'fasttext_distance']\n",
      "=======================================\n",
      "['laser_distance', 'use_distance', 'fasttext_distance', 'bert_distance']\n",
      "=======================================\n",
      "['laser_distance', 'use_distance', 'fasttext_distance', 'bert_distance', 'ner_custom_overlap']\n",
      "=======================================\n",
      "['laser_distance', 'use_distance', 'fasttext_distance', 'bert_distance', 'ner_custom_overlap', 'ner_overlap']\n",
      "=======================================\n",
      "['use_distance']\n",
      "=======================================\n",
      "['use_distance', 'fasttext_distance']\n",
      "=======================================\n",
      "['use_distance', 'fasttext_distance', 'bert_distance']\n",
      "=======================================\n",
      "['use_distance', 'fasttext_distance', 'bert_distance', 'ner_custom_overlap']\n",
      "=======================================\n",
      "['use_distance', 'fasttext_distance', 'bert_distance', 'ner_custom_overlap', 'ner_overlap']\n",
      "=======================================\n",
      "['fasttext_distance']\n",
      "=======================================\n",
      "['fasttext_distance', 'bert_distance']\n",
      "=======================================\n",
      "['fasttext_distance', 'bert_distance', 'ner_custom_overlap']\n",
      "=======================================\n",
      "['fasttext_distance', 'bert_distance', 'ner_custom_overlap', 'ner_overlap']\n",
      "=======================================\n",
      "['bert_distance']\n",
      "=======================================\n",
      "['bert_distance', 'ner_custom_overlap']\n",
      "=======================================\n",
      "['bert_distance', 'ner_custom_overlap', 'ner_overlap']\n",
      "=======================================\n",
      "['ner_custom_overlap']\n",
      "=======================================\n",
      "['ner_custom_overlap', 'ner_overlap']\n",
      "=======================================\n",
      "['ner_overlap']\n",
      "=======================================\n"
     ]
    }
   ],
   "source": [
    "\n",
    "x_columns = [\"tfidf_distance\", \"laser_distance\", \"use_distance\", \"fasttext_distance\", \"bert_distance\", \"ner_custom_overlap\", \"ner_overlap\"]\n",
    "result_x_columns = []\n",
    "for i in range(len(x_columns)):\n",
    "    for j in range(i+1, len(x_columns)+1):\n",
    "        if i == j:\n",
    "            current_x_columns = [x_columns[i]]\n",
    "        else:\n",
    "            current_x_columns = x_columns[i:j]\n",
    "        print(current_x_columns)\n",
    "        print(\"=======================================\")"
   ],
   "metadata": {
    "collapsed": false,
    "pycharm": {
     "name": "#%%\n"
    }
   }
  },
  {
   "cell_type": "code",
   "execution_count": 5,
   "outputs": [
    {
     "data": {
      "text/plain": "1"
     },
     "execution_count": 5,
     "metadata": {},
     "output_type": "execute_result"
    }
   ],
   "source": [],
   "metadata": {
    "collapsed": false,
    "pycharm": {
     "name": "#%%\n"
    }
   }
  },
  {
   "cell_type": "code",
   "execution_count": null,
   "outputs": [],
   "source": [],
   "metadata": {
    "collapsed": false,
    "pycharm": {
     "name": "#%%\n"
    }
   }
  }
 ],
 "metadata": {
  "kernelspec": {
   "display_name": "Python 3",
   "language": "python",
   "name": "python3"
  },
  "language_info": {
   "codemirror_mode": {
    "name": "ipython",
    "version": 2
   },
   "file_extension": ".py",
   "mimetype": "text/x-python",
   "name": "python",
   "nbconvert_exporter": "python",
   "pygments_lexer": "ipython2",
   "version": "2.7.6"
  }
 },
 "nbformat": 4,
 "nbformat_minor": 0
}